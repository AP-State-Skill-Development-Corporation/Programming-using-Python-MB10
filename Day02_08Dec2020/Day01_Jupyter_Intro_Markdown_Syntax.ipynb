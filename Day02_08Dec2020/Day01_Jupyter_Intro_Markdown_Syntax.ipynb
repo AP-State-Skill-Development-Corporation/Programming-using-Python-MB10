{
 "cells": [
  {
   "cell_type": "code",
   "execution_count": 2,
   "metadata": {
    "scrolled": true
   },
   "outputs": [
    {
     "name": "stdout",
     "output_type": "stream",
     "text": [
      "Hello World\n"
     ]
    }
   ],
   "source": [
    "print(\"Hello World\")"
   ]
  },
  {
   "cell_type": "markdown",
   "metadata": {},
   "source": [
    "# Markdown Syntax\n",
    "\n",
    "<h1> HTML Markdown Heading </h1>"
   ]
  },
  {
   "cell_type": "markdown",
   "metadata": {},
   "source": [
    "## Shortcuts Avaliable in Jupyter Notebook\n",
    "\n",
    "### Using Unordered List\n",
    "\n",
    "- Executing/Running the cell - ShiftEnter\n",
    "* Converting Code cell to Markdown Cell - EscM\n",
    "+ Converting Markdown Cell to Code cell - EscY\n",
    "- Delete the selected Cell - ESCDD\n",
    "* Add the new cell above the current/selected cell \n",
    "    - ESCA\n",
    "+ Add the new cell below the current/selected cell \n",
    "    - ESCB\n",
    "        * Another point\n",
    "            - same as above\n",
    "* Toggling the Line Number for the Current Cell - EscL"
   ]
  },
  {
   "cell_type": "markdown",
   "metadata": {},
   "source": [
    "#### Ordered List\n",
    "\n",
    "1. Inserting URL\n",
    "2. Inserting Image\n",
    "3. Inserrting Tables\n",
    "4. Mathematical Formulae\n",
    "5. Inserting Code\n",
    "    1. HTML\n",
    "    2. C\n",
    "    3. C++\n",
    "    4. JS\n",
    "        1. Angular\n",
    "            1. React"
   ]
  },
  {
   "cell_type": "markdown",
   "metadata": {},
   "source": [
    "\\[Description Of the Link](Link)\n",
    "\n",
    "\n",
    "### [APSSDC Home Page](https://www.apssdc.in/)\n",
    "\n",
    "https://apssdc.in"
   ]
  },
  {
   "cell_type": "markdown",
   "metadata": {},
   "source": [
    "\\![Description](Img URL)\n",
    "\n",
    "\n",
    "![Python Image](https://www.google.com/url?sa=i&url=https%3A%2F%2Fdatawider.com%2Fpython-programming-language-is-considered-better-than-other-languages%2F&psig=AOvVaw1AZs4gTEZ6oFgy7W-UbBBm&ust=1607492404962000&source=images&cd=vfe&ved=0CAIQjRxqFwoTCIiA6JDWve0CFQAAAAAdAAAAABAD)\n",
    "\n",
    "![Python Image](https://datawider.com/wp-content/uploads/2019/11/How-to-Learn-Python.jpg)\n",
    "\n",
    "\n",
    "\n",
    "<img src = \"https://datawider.com/wp-content/uploads/2019/11/How-to-Learn-Python.jpg\" width = \"50%\">"
   ]
  },
  {
   "cell_type": "markdown",
   "metadata": {},
   "source": [
    "**Python** is a __programming Language__. Which is *Easy* to _learn_ ***Read and Write***. Many `Applications` as avaliable"
   ]
  },
  {
   "cell_type": "markdown",
   "metadata": {},
   "source": [
    "|Col1|Col2|Col3|\n",
    "|----|----|----|\n",
    "|Row11|row12|row13|\n",
    "|row21|row22|row23|"
   ]
  },
  {
   "cell_type": "markdown",
   "metadata": {},
   "source": [
    "```c\n",
    "<# include stdio.h>\n",
    "main()\n",
    "{\n",
    "printf(\"Hello World\");\n",
    "}\n",
    "```\n",
    "\n",
    "```python\n",
    "print(\"Hello World\")\n",
    "```\n",
    "\n",
    "```html\n",
    "<H1>HTML Heading</H1>\n",
    "```\n",
    "\n",
    "\n",
    "<# include stdio.h>\n",
    "main()\n",
    "{\n",
    "printf(\"Hello World\");\n",
    "}"
   ]
  },
  {
   "cell_type": "markdown",
   "metadata": {},
   "source": [
    "### [Math Markdown](https://www.math.ubc.ca/~pwalls/math-python/jupyter/latex/)"
   ]
  },
  {
   "cell_type": "markdown",
   "metadata": {},
   "source": [
    "$(\\alpha_1 + \\beta_1) ^ 2 = {a_1}^2 + {b_1}^2 + 2 * a_1 * b_1 $\n",
    "\n",
    "$$ \\sqrt{{(x_1 - x_2)}^2 + {(y_1 - y_2)}^2}$$\n",
    "\n",
    "$$\\frac{a + b}{b - a}$$"
   ]
  },
  {
   "cell_type": "markdown",
   "metadata": {},
   "source": [
    "$$\\begin{matrix} a & b \\\\ c & d \\end{matrix}$$"
   ]
  },
  {
   "cell_type": "markdown",
   "metadata": {},
   "source": [
    "$$\\begin{pmatrix} a & b \\\\ c & d \\end{pmatrix}$$"
   ]
  },
  {
   "cell_type": "markdown",
   "metadata": {},
   "source": [
    "LaTeX is a typesetting language for producing scientific documents. We introduce a very small part of the language for writing mathematical notation. Jupyter notebook recognizes LaTeX code written in markdown cells and renders the symbols in the browser using the MathJax JavaScript library.\n",
    "\n",
    "***********\n",
    "Paragraph2\n",
    "\n",
    "------------\n",
    "Mathematics Inline and Display\n",
    "Enclose LaTeX code in dollar signs $ ... $ to display math inline. For example, the code $\\int_a^b f(x) = F(b) - F(a)$ renders inline as .\n",
    "* * *\n",
    "Enclose LaTeX code in double dollar signs"
   ]
  },
  {
   "cell_type": "code",
   "execution_count": 4,
   "metadata": {},
   "outputs": [],
   "source": [
    "a = 5"
   ]
  },
  {
   "cell_type": "code",
   "execution_count": 5,
   "metadata": {},
   "outputs": [
    {
     "data": {
      "text/plain": [
       "int"
      ]
     },
     "execution_count": 5,
     "metadata": {},
     "output_type": "execute_result"
    }
   ],
   "source": [
    "type(a)"
   ]
  },
  {
   "cell_type": "code",
   "execution_count": 6,
   "metadata": {},
   "outputs": [
    {
     "data": {
      "text/plain": [
       "5"
      ]
     },
     "execution_count": 6,
     "metadata": {},
     "output_type": "execute_result"
    }
   ],
   "source": [
    "a"
   ]
  },
  {
   "cell_type": "code",
   "execution_count": 9,
   "metadata": {},
   "outputs": [
    {
     "data": {
      "text/plain": [
       "10"
      ]
     },
     "execution_count": 9,
     "metadata": {},
     "output_type": "execute_result"
    }
   ],
   "source": [
    "b = 10\n",
    "b\n",
    "#print(a)"
   ]
  },
  {
   "cell_type": "code",
   "execution_count": 11,
   "metadata": {},
   "outputs": [
    {
     "data": {
      "text/plain": [
       "float"
      ]
     },
     "execution_count": 11,
     "metadata": {},
     "output_type": "execute_result"
    }
   ],
   "source": [
    "a = 5.5\n",
    "type(a)"
   ]
  },
  {
   "cell_type": "code",
   "execution_count": 12,
   "metadata": {},
   "outputs": [
    {
     "data": {
      "text/plain": [
       "int"
      ]
     },
     "execution_count": 12,
     "metadata": {},
     "output_type": "execute_result"
    }
   ],
   "source": [
    "type(b)"
   ]
  },
  {
   "cell_type": "code",
   "execution_count": 13,
   "metadata": {},
   "outputs": [
    {
     "data": {
      "text/plain": [
       "float"
      ]
     },
     "execution_count": 13,
     "metadata": {},
     "output_type": "execute_result"
    }
   ],
   "source": [
    "type(a + b)"
   ]
  },
  {
   "cell_type": "code",
   "execution_count": 14,
   "metadata": {},
   "outputs": [
    {
     "name": "stdout",
     "output_type": "stream",
     "text": [
      "<class 'float'>\n"
     ]
    }
   ],
   "source": [
    "print(type(a))"
   ]
  },
  {
   "cell_type": "code",
   "execution_count": 15,
   "metadata": {},
   "outputs": [
    {
     "name": "stdout",
     "output_type": "stream",
     "text": [
      "1 2.2 (3.4+8j) one\n"
     ]
    }
   ],
   "source": [
    "a,b,c,d = 1, 2.2, 3.4 +8j, \"one\"\n",
    "\n",
    "print(a,b,c,d)"
   ]
  },
  {
   "cell_type": "code",
   "execution_count": 16,
   "metadata": {},
   "outputs": [
    {
     "ename": "ValueError",
     "evalue": "not enough values to unpack (expected 4, got 3)",
     "output_type": "error",
     "traceback": [
      "\u001b[1;31m---------------------------------------------------------------------------\u001b[0m",
      "\u001b[1;31mValueError\u001b[0m                                Traceback (most recent call last)",
      "\u001b[1;32m<ipython-input-16-49b7c3bb911e>\u001b[0m in \u001b[0;36m<module>\u001b[1;34m\u001b[0m\n\u001b[1;32m----> 1\u001b[1;33m \u001b[0ma\u001b[0m\u001b[1;33m,\u001b[0m\u001b[0mb\u001b[0m\u001b[1;33m,\u001b[0m\u001b[0mc\u001b[0m\u001b[1;33m,\u001b[0m\u001b[0md\u001b[0m \u001b[1;33m=\u001b[0m \u001b[1;36m1\u001b[0m\u001b[1;33m,\u001b[0m \u001b[1;36m2.2\u001b[0m\u001b[1;33m,\u001b[0m \u001b[1;36m3.4\u001b[0m \u001b[1;33m+\u001b[0m\u001b[1;36m8j\u001b[0m\u001b[1;33m\u001b[0m\u001b[1;33m\u001b[0m\u001b[0m\n\u001b[0m",
      "\u001b[1;31mValueError\u001b[0m: not enough values to unpack (expected 4, got 3)"
     ]
    }
   ],
   "source": [
    "a,b,c,d = 1, 2.2, 3.4 +8j"
   ]
  }
 ],
 "metadata": {
  "kernelspec": {
   "display_name": "Python 3",
   "language": "python",
   "name": "python3"
  },
  "language_info": {
   "codemirror_mode": {
    "name": "ipython",
    "version": 3
   },
   "file_extension": ".py",
   "mimetype": "text/x-python",
   "name": "python",
   "nbconvert_exporter": "python",
   "pygments_lexer": "ipython3",
   "version": "3.8.3"
  }
 },
 "nbformat": 4,
 "nbformat_minor": 4
}
