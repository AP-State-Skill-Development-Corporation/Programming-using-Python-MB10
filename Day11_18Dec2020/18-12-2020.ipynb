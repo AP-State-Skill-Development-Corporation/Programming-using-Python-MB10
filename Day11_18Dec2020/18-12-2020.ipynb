{
 "cells": [
  {
   "cell_type": "markdown",
   "metadata": {},
   "source": [
    "### File Handling\n",
    "\n",
    "- What is a File\n",
    "- What is a file handling\n",
    "- File methods\n",
    "- Different Modes\n",
    "- use of \"with\" statement\n",
    "\n",
    "- File:\n",
    "    - File is saved in some location on our local system to store some information or data.\n",
    "- Examples:\n",
    "    - .txt,.pdf,.html,.doc,.png,.jpeg\n",
    "    \n",
    "- File Handling:\n",
    "    - create,write,read,update,delete\n",
    "    \n",
    "    - create (create,read,write,append,close,delete)\n",
    "    - open\n",
    "    - working\n",
    "    - close\n",
    "    \n",
    "- File methods:\n",
    "    - open()\n",
    "        - syntax : file_obj = open(\"filename\",\"mode\")\n",
    "    - read()\n",
    "        - synatx : file_obj.read(size)\n",
    "    - write()\n",
    "        - syntax : file_obj.write(data)\n",
    "    - readlines()\n",
    "        - syntax : file_obj.readlines()\n",
    "        \n",
    "    - close()\n",
    "        - syntax : file_obj.close()\n",
    "- Different Modes:\n",
    "\n",
    "    - open(\"filename\",\"mode\")\n",
    "    - open(\"filename\",\"r\")\n",
    "    - open(\"filename\",\"w\")\n",
    "    - open(\"filename\",\"a\")\n",
    "    - open(\"filename\",\"r+\")\n",
    "    - open(\"filename\",\"w+\")\n",
    "    - open(\"filename\",\"a+\")\n",
    "    "
   ]
  },
  {
   "cell_type": "markdown",
   "metadata": {},
   "source": [
    "#### creating a file"
   ]
  },
  {
   "cell_type": "code",
   "execution_count": 2,
   "metadata": {},
   "outputs": [
    {
     "name": "stdout",
     "output_type": "stream",
     "text": [
      "Done\n"
     ]
    }
   ],
   "source": [
    "f = open(\"file.txt\",\"w\")\n",
    "data = \"Welcome to python programming workshop\"\n",
    "f.write(data)\n",
    "print(\"Done\")\n",
    "f.close()\n"
   ]
  },
  {
   "cell_type": "code",
   "execution_count": 3,
   "metadata": {},
   "outputs": [
    {
     "ename": "FileNotFoundError",
     "evalue": "[Errno 2] No such file or directory: 'file1.txt'",
     "output_type": "error",
     "traceback": [
      "\u001b[1;31m---------------------------------------------------------------------------\u001b[0m",
      "\u001b[1;31mFileNotFoundError\u001b[0m                         Traceback (most recent call last)",
      "\u001b[1;32m<ipython-input-3-487166c01967>\u001b[0m in \u001b[0;36m<module>\u001b[1;34m\u001b[0m\n\u001b[1;32m----> 1\u001b[1;33m \u001b[0mf\u001b[0m \u001b[1;33m=\u001b[0m \u001b[0mopen\u001b[0m\u001b[1;33m(\u001b[0m\u001b[1;34m\"file1.txt\"\u001b[0m\u001b[1;33m,\u001b[0m\u001b[1;34m\"r\"\u001b[0m\u001b[1;33m)\u001b[0m\u001b[1;33m\u001b[0m\u001b[1;33m\u001b[0m\u001b[0m\n\u001b[0m\u001b[0;32m      2\u001b[0m \u001b[0mf\u001b[0m\u001b[1;33m.\u001b[0m\u001b[0mwrite\u001b[0m\u001b[1;33m(\u001b[0m\u001b[1;34m\"welcome to workshop\"\u001b[0m\u001b[1;33m)\u001b[0m\u001b[1;33m\u001b[0m\u001b[1;33m\u001b[0m\u001b[0m\n\u001b[0;32m      3\u001b[0m \u001b[0mprint\u001b[0m\u001b[1;33m(\u001b[0m\u001b[1;34m\"done\"\u001b[0m\u001b[1;33m)\u001b[0m\u001b[1;33m\u001b[0m\u001b[1;33m\u001b[0m\u001b[0m\n\u001b[0;32m      4\u001b[0m \u001b[0mf\u001b[0m\u001b[1;33m.\u001b[0m\u001b[0mclose\u001b[0m\u001b[1;33m(\u001b[0m\u001b[1;33m)\u001b[0m\u001b[1;33m\u001b[0m\u001b[1;33m\u001b[0m\u001b[0m\n",
      "\u001b[1;31mFileNotFoundError\u001b[0m: [Errno 2] No such file or directory: 'file1.txt'"
     ]
    }
   ],
   "source": [
    "f = open(\"file1.txt\",\"r\")\n",
    "f.write(\"welcome to workshop\")\n",
    "print(\"done\")\n",
    "f.close()\n"
   ]
  },
  {
   "cell_type": "markdown",
   "metadata": {},
   "source": [
    "#### reading the data"
   ]
  },
  {
   "cell_type": "code",
   "execution_count": 4,
   "metadata": {},
   "outputs": [
    {
     "name": "stdout",
     "output_type": "stream",
     "text": [
      "Welcome to python programming workshop\n"
     ]
    }
   ],
   "source": [
    "file = open(\"file.txt\",\"r\")\n",
    "d = file.read()\n",
    "print(d)\n",
    "file.close()"
   ]
  },
  {
   "cell_type": "markdown",
   "metadata": {},
   "source": [
    "#### Append some data"
   ]
  },
  {
   "cell_type": "code",
   "execution_count": 5,
   "metadata": {},
   "outputs": [],
   "source": [
    "file = open(\"file.txt\",\"w\")\n",
    "file.write(\"Hello everyone\")\n",
    "file.close()"
   ]
  },
  {
   "cell_type": "code",
   "execution_count": 9,
   "metadata": {},
   "outputs": [
    {
     "name": "stdout",
     "output_type": "stream",
     "text": [
      "completed\n"
     ]
    }
   ],
   "source": [
    "file = open(\"file.txt\",\"a\")\n",
    "file.write(\" \"+\"Welcome to python programming workshop\")\n",
    "print(\"completed\")\n",
    "file.close()"
   ]
  },
  {
   "cell_type": "code",
   "execution_count": 10,
   "metadata": {},
   "outputs": [
    {
     "name": "stdout",
     "output_type": "stream",
     "text": [
      "completed\n"
     ]
    }
   ],
   "source": [
    "file = open(\"file.txt\",\"a\")\n",
    "file.write(\"\\n\"+\"srkit students\")\n",
    "print(\"completed\")\n",
    "file.close()"
   ]
  },
  {
   "cell_type": "code",
   "execution_count": 11,
   "metadata": {},
   "outputs": [
    {
     "name": "stdout",
     "output_type": "stream",
     "text": [
      "Hello everyone Welcome to python programming workshop\n",
      "srkit students\n"
     ]
    }
   ],
   "source": [
    "with open(\"file.txt\",\"r\") as file:\n",
    "    data = file.read()\n",
    "    print(data)\n",
    "    "
   ]
  },
  {
   "cell_type": "code",
   "execution_count": 12,
   "metadata": {},
   "outputs": [
    {
     "name": "stdout",
     "output_type": "stream",
     "text": [
      "completed********************\n"
     ]
    }
   ],
   "source": [
    "# srkit students for 3rd years\n",
    "\n",
    "with open(\"file.txt\",\"a\") as file:\n",
    "    file.write(\" \"+\"for 3rd years\")\n",
    "    print(\"completed\"+(\"*\"*20))"
   ]
  },
  {
   "cell_type": "code",
   "execution_count": 14,
   "metadata": {},
   "outputs": [
    {
     "name": "stdout",
     "output_type": "stream",
     "text": [
      "enter somedataverygood\n",
      "processed...............\n"
     ]
    }
   ],
   "source": [
    "with open(\"file.txt\",\"a\") as file:\n",
    "    file.write(\"\\n\"+input(\"enter somedata\"))\n",
    "    print(\"processed\"+(\".\"*15))"
   ]
  },
  {
   "cell_type": "code",
   "execution_count": null,
   "metadata": {},
   "outputs": [],
   "source": [
    "# \\ replace with \\\\\n",
    "# \\ replace with /\n",
    "# (r-> rawpath or rawloactio),r\"D:\\foldername\\filename\""
   ]
  },
  {
   "cell_type": "code",
   "execution_count": 18,
   "metadata": {
    "collapsed": true
   },
   "outputs": [
    {
     "name": "stdout",
     "output_type": "stream",
     "text": [
      "function pb1_callback(handles)\n",
      "//Write your callback for  pb1  here\n",
      "handles.edit.string=string(handles.edit.string)+string('1')\n",
      "endfunction\n",
      "\n",
      "\n",
      "function pb2_callback(handles)\n",
      "//Write your callback for  pb2  here\n",
      "handles.edit.string=string(handles.edit.string)+string('2')\n",
      "endfunction\n",
      "\n",
      "\n",
      "function pb3_callback(handles)\n",
      "//Write your callback for  pb3  here\n",
      "handles.edit.string=string(handles.edit.string)+string('3')\n",
      "endfunction\n",
      "\n",
      "\n",
      "function pb4_callback(handles)\n",
      "//Write your callback for  pb4  here\n",
      "handles.edit.string=string(handles.edit.string)+string('4')\n",
      "endfunction\n",
      "\n",
      "\n",
      "function pb5_callback(handles)\n",
      "//Write your callback for  pb5  here\n",
      "handles.edit.string=string(handles.edit.string)+string('5')\n",
      "endfunction\n",
      "\n",
      "\n",
      "function pb6_callback(handles)\n",
      "//Write your callback for  pb6  here\n",
      "handles.edit.string=string(handles.edit.string)+string('6')\n",
      "endfunction\n",
      "\n",
      "\n",
      "function pb7_callback(handles)\n",
      "//Write your callback for  pb7  here\n",
      "handles.edit.string=string(handles.edit.string)+string('7')\n",
      "endfunction\n",
      "\n",
      "\n",
      "function pb8_callback(handles)\n",
      "//Write your callback for  pb8  here\n",
      "handles.edit.string=string(handles.edit.string)+string('8')\n",
      "endfunction\n",
      "\n",
      "\n",
      "function pb9_callback(handles)\n",
      "//Write your callback for  pb9  here\n",
      "handles.edit.string=string(handles.edit.string)+string('9')\n",
      "endfunction\n",
      "\n",
      "\n",
      "function pb_0_callback(handles)\n",
      "//Write your callback for  pb_0  here\n",
      "handles.edit.string=string(handles.edit.string)+string('0')\n",
      "endfunction\n",
      "\n",
      "\n",
      "function equal_callback(handles)\n",
      "//Write your callback for  equal  here\n",
      "stng=handles.edit.string\n",
      "eq=eval(stng)\n",
      "handles.edit.string=string(eq)\n",
      "endfunction\n",
      "\n",
      "\n",
      "function clear_callback(handles)\n",
      "//Write your callback for  clear  here\n",
      "handles.edit.string=\"\"\n",
      "//newstr= \"\"; \n",
      "//set(handles.edit,\"String\", newstr)\n",
      "endfunction\n",
      "\n",
      "\n",
      "function add_callback(handles)\n",
      "//Write your callback for  add  here\n",
      "handles.edit.string=string(handles.edit.string)+string('+')\n",
      "endfunction\n",
      "\n",
      "\n",
      "function sub_callback(handles)\n",
      "//Write your callback for  sub  here\n",
      "handles.edit.string=string(handles.edit.string)+string('-')\n",
      "endfunction\n",
      "\n",
      "\n",
      "function mul_callback(handles)\n",
      "//Write your callback for  mul  here\n",
      "handles.edit.string=string(handles.edit.string)+string('*')\n",
      "endfunction\n",
      "\n",
      "\n",
      "function div_callback(handles)\n",
      "//Write your callback for  div  here\n",
      "handles.edit.string=string(handles.edit.string)+string('/')\n",
      "endfunction\n",
      "\n"
     ]
    }
   ],
   "source": [
    "f = open(r\"D:\\Calculator Scilab Code.txt\")\n",
    "data = f.read()\n",
    "print(data)\n",
    "f.close()"
   ]
  },
  {
   "cell_type": "markdown",
   "metadata": {},
   "source": [
    "- File objective methods:\n",
    "    - seek()\n",
    "        - used to change the cursor postion\n",
    "    - tell()\n",
    "        - used to know the cursor position"
   ]
  },
  {
   "cell_type": "code",
   "execution_count": 37,
   "metadata": {},
   "outputs": [
    {
     "name": "stdout",
     "output_type": "stream",
     "text": [
      "106\n",
      "after changing the cursor position 100\n"
     ]
    }
   ],
   "source": [
    "f = open(\"file.txt\",\"r\")\n",
    "data = f.read()\n",
    "print(f.tell())\n",
    "#print(data)\n",
    "f.seek(100)\n",
    "\n",
    "print(\"after changing the cursor position\",f.tell())\n",
    "\n",
    "f.close()"
   ]
  },
  {
   "cell_type": "markdown",
   "metadata": {},
   "source": [
    "- Read the data in reverse order"
   ]
  },
  {
   "cell_type": "code",
   "execution_count": 38,
   "metadata": {},
   "outputs": [
    {
     "name": "stdout",
     "output_type": "stream",
     "text": [
      "Hello everyone Welcome to python programming workshop\n",
      "srkit students for 3rd years\n",
      "interesting\n",
      "verygood\n"
     ]
    }
   ],
   "source": [
    "with open(\"file.txt\",\"r\") as file:\n",
    "    data = file.read()\n",
    "    print(data)\n",
    "    "
   ]
  },
  {
   "cell_type": "code",
   "execution_count": 40,
   "metadata": {},
   "outputs": [
    {
     "data": {
      "text/plain": [
       "'cdsspa'"
      ]
     },
     "execution_count": 40,
     "metadata": {},
     "output_type": "execute_result"
    }
   ],
   "source": [
    "a = \"apssdc\"\n",
    "a[::-1]"
   ]
  },
  {
   "cell_type": "code",
   "execution_count": 42,
   "metadata": {},
   "outputs": [
    {
     "name": "stdout",
     "output_type": "stream",
     "text": [
      "doogyrev\n",
      "gnitseretni\n",
      "sraey dr3 rof stneduts tikrs\n",
      "pohskrow gnimmargorp nohtyp ot emocleW enoyreve olleH\n"
     ]
    }
   ],
   "source": [
    "# reverse the data\n",
    "with open(\"file.txt\",\"r\") as f:\n",
    "    data = f.read()\n",
    "    print(data[::-1])"
   ]
  },
  {
   "cell_type": "code",
   "execution_count": 45,
   "metadata": {
    "collapsed": true
   },
   "outputs": [
    {
     "name": "stdout",
     "output_type": "stream",
     "text": [
      "['Hello everyone Welcome to python programming workshop\\n', 'srkit students for 3rd years\\n', 'interesting\\n', 'verygood']\n"
     ]
    }
   ],
   "source": [
    "# read the data line by line\n",
    "with open(\"file.txt\",\"r\") as f:\n",
    "    d = f.readlines()\n",
    "    print(d)"
   ]
  },
  {
   "cell_type": "code",
   "execution_count": 46,
   "metadata": {
    "collapsed": true
   },
   "outputs": [
    {
     "name": "stdout",
     "output_type": "stream",
     "text": [
      "Hello everyone Welcome to python programming workshop\n",
      "\n",
      "srkit students for 3rd years\n",
      "\n",
      "interesting\n",
      "\n",
      "verygood\n"
     ]
    }
   ],
   "source": [
    "# read the data line by line\n",
    "with open(\"file.txt\",\"r\") as f:\n",
    "    d = f.readlines()\n",
    "    for lines in d:\n",
    "        print(lines)\n",
    "    \n",
    "    "
   ]
  },
  {
   "cell_type": "code",
   "execution_count": 64,
   "metadata": {},
   "outputs": [
    {
     "name": "stdout",
     "output_type": "stream",
     "text": [
      "['Hello', 'everyone', 'Welcome', 'to', 'python', 'programming', 'workshop']\n",
      "length of words 7\n",
      "['srkit', 'students', 'for', '3rd', 'years']\n",
      "length of words 5\n",
      "['interesting']\n",
      "length of words 1\n",
      "['verygood']\n",
      "length of words 1\n"
     ]
    }
   ],
   "source": [
    "# split data and find how many words are present in each line\n",
    "with open(\"file.txt\",\"r\") as f:\n",
    "    d = f.readlines()\n",
    "    for lines in d:\n",
    "        #print(lines)\n",
    "        words = lines.split()\n",
    "        print(words)\n",
    "        print(\"length of words\",len(words))\n",
    "    "
   ]
  },
  {
   "cell_type": "code",
   "execution_count": 49,
   "metadata": {},
   "outputs": [
    {
     "name": "stdout",
     "output_type": "stream",
     "text": [
      "4\n",
      "['apssdc', 'is', 'conducting', 'workshop']\n"
     ]
    }
   ],
   "source": [
    "a = \"apssdc is conducting workshop\"\n",
    "s = a.split()\n",
    "print(len(s))\n",
    "print(s)"
   ]
  },
  {
   "cell_type": "code",
   "execution_count": null,
   "metadata": {},
   "outputs": [],
   "source": [
    "# find the length of each word and also print the word"
   ]
  },
  {
   "cell_type": "code",
   "execution_count": 86,
   "metadata": {
    "collapsed": true
   },
   "outputs": [
    {
     "name": "stdout",
     "output_type": "stream",
     "text": [
      "Hello ----> 5\n",
      "everyone ----> 8\n",
      "Welcome ----> 7\n",
      "to ----> 2\n",
      "python ----> 6\n",
      "programming ----> 11\n",
      "workshop ----> 8\n",
      "srkit ----> 5\n",
      "students ----> 8\n",
      "for ----> 3\n",
      "3rd ----> 3\n",
      "years ----> 5\n",
      "interesting ----> 11\n",
      "verygood ----> 8\n"
     ]
    }
   ],
   "source": [
    "with open(\"file.txt\",\"r\") as file:\n",
    "    data=file.readlines()\n",
    "    for line in data:\n",
    "        #print(line)\n",
    "        S=line.split()\n",
    "        #print(S)\n",
    "        for word in S:\n",
    "             print(word,\"---->\",len(word))"
   ]
  },
  {
   "cell_type": "code",
   "execution_count": null,
   "metadata": {},
   "outputs": [],
   "source": [
    "# find the frequency of each word\n",
    "\n",
    "#input : \"hii everyone  hii\"\n",
    "\n",
    "# output : {\"hii\":2,,\"everyone\":1}"
   ]
  },
  {
   "cell_type": "code",
   "execution_count": 98,
   "metadata": {},
   "outputs": [
    {
     "name": "stdout",
     "output_type": "stream",
     "text": [
      "{'Hello': 1, 'everyone': 1, 'Welcome': 1, 'to': 1, 'python': 1, 'programming': 1, 'workshop': 1}\n",
      "{'srkit': 1, 'students': 1, 'for': 1, '3rd': 1, 'years': 1}\n",
      "{'interesting': 1}\n",
      "{'verygood': 1}\n"
     ]
    }
   ],
   "source": [
    "with open(\"file.txt\",\"r\") as file:\n",
    "    data=file.readlines()\n",
    "    for line in data:\n",
    "        #print(line)\n",
    "        S=line.split()\n",
    "        #print(S)\n",
    "        f = {}\n",
    "        for word in S:\n",
    "            if word not in f:\n",
    "                f[word]=1 # f[word]=S.count(word)\n",
    "            else:\n",
    "                f[word]+=1\n",
    "        print(f)\n",
    "             \n",
    "  \n"
   ]
  },
  {
   "cell_type": "code",
   "execution_count": 99,
   "metadata": {},
   "outputs": [
    {
     "name": "stdout",
     "output_type": "stream",
     "text": [
      "hello : 1\n",
      "everyone : 1\n",
      "welcome : 1\n",
      "to : 1\n",
      "python : 1\n",
      "programming : 1\n",
      "workshop : 1\n",
      "srkit : 1\n",
      "students : 1\n",
      "for : 1\n",
      "3rd : 1\n",
      "years : 1\n",
      "interesting : 1\n",
      "verygood : 1\n"
     ]
    }
   ],
   "source": [
    "f = open(\"file.txt\", \"r\") \n",
    "d = dict() \n",
    "for line in f: \n",
    "    line = line.strip() \n",
    "    line = line.lower()\n",
    "    words = line.split(\" \")  \n",
    "    for word in words: \n",
    "        if word in d: \n",
    "            d[word] = d[word] + 1\n",
    "        else: \n",
    "            d[word] = 1\n",
    "for key in list(d.keys()): \n",
    "    print(key, \":\", d[key]) "
   ]
  },
  {
   "cell_type": "code",
   "execution_count": 106,
   "metadata": {},
   "outputs": [
    {
     "name": "stdout",
     "output_type": "stream",
     "text": [
      "{'Hello': 1, 'everyone': 1, 'Welcome': 1, 'to': 1, 'python': 1, 'programming': 1, 'workshop': 1, 'srkit': 1, 'students': 1, 'for': 1, '3rd': 1, 'years': 1, 'interesting': 1, 'verygood': 1}\n"
     ]
    }
   ],
   "source": [
    "with open(\"file.txt\",\"r\") as file:\n",
    "    data=file.readlines()\n",
    "    Frq={}\n",
    "    for line in data:\n",
    "        S=line.split()\n",
    "        for word in S:\n",
    "            Frq[word] =S.count(word)\n",
    "print(Frq)"
   ]
  },
  {
   "cell_type": "code",
   "execution_count": null,
   "metadata": {},
   "outputs": [],
   "source": []
  }
 ],
 "metadata": {
  "kernelspec": {
   "display_name": "Python 3",
   "language": "python",
   "name": "python3"
  },
  "language_info": {
   "codemirror_mode": {
    "name": "ipython",
    "version": 3
   },
   "file_extension": ".py",
   "mimetype": "text/x-python",
   "name": "python",
   "nbconvert_exporter": "python",
   "pygments_lexer": "ipython3",
   "version": "3.7.3"
  }
 },
 "nbformat": 4,
 "nbformat_minor": 2
}
