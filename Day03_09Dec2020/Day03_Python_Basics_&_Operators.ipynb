{
 "cells": [
  {
   "cell_type": "markdown",
   "metadata": {},
   "source": [
    "<a href=\"https://apssdc.in\"><img src=\"https://camo.githubusercontent.com/e7501c5948d48f88dad8ab2ab6bd448e1cfd6c79/68747470733a2f2f64726976652e676f6f676c652e636f6d2f75633f6578706f72743d646f776e6c6f61642669643d3135414b51365f2d42697857344b366d4c36525070684635454b58715946327a6a\" width=\"900\" align=\"center\"></a>\n",
    "\n",
    "<h1><center>Day03 Online Training on Python Programming</center></h1>"
   ]
  },
  {
   "cell_type": "markdown",
   "metadata": {},
   "source": [
    "### Day03 Objectives\n",
    "\n",
    "- Python Basics\n",
    "    - print()\n",
    "    - input()\n",
    "    - identifier and Properties of identifier\n",
    "    - Keywords in Python\n",
    "    - Data Types\n",
    "    - Type Conversions\n",
    "- Operators in Python\n",
    "    - Arthematic Operators\n",
    "    - Logical Operators\n",
    "    - Relational Operators\n",
    "    - Assignment Operators\n",
    "    - Bitwise Operators\n",
    "    - Membership Operators\n",
    "    - Identity Operators"
   ]
  },
  {
   "cell_type": "markdown",
   "metadata": {},
   "source": [
    "### print() --> Display output to the user"
   ]
  },
  {
   "cell_type": "code",
   "execution_count": 1,
   "metadata": {},
   "outputs": [
    {
     "name": "stdout",
     "output_type": "stream",
     "text": [
      "Hello World\n"
     ]
    }
   ],
   "source": [
    "print(\"Hello World\")"
   ]
  },
  {
   "cell_type": "code",
   "execution_count": 2,
   "metadata": {},
   "outputs": [
    {
     "name": "stdout",
     "output_type": "stream",
     "text": [
      "Hello World Hello World2 Hello world3\n"
     ]
    }
   ],
   "source": [
    "print(\"Hello World\", \"Hello World2\", \"Hello world3\")"
   ]
  },
  {
   "cell_type": "code",
   "execution_count": 4,
   "metadata": {},
   "outputs": [
    {
     "name": "stdout",
     "output_type": "stream",
     "text": [
      "Hello World :) Hello World2 :) Hello world3\n"
     ]
    }
   ],
   "source": [
    "print(\"Hello World\", \"Hello World2\", \"Hello world3\", sep = ' :) ')"
   ]
  },
  {
   "cell_type": "code",
   "execution_count": 5,
   "metadata": {},
   "outputs": [
    {
     "name": "stdout",
     "output_type": "stream",
     "text": [
      "Hello\n",
      "World\n",
      "From\n",
      "APSSDC\n"
     ]
    }
   ],
   "source": [
    "print(\"Hello\")\n",
    "print(\"World\")\n",
    "print(\"From\")\n",
    "print(\"APSSDC\")"
   ]
  },
  {
   "cell_type": "code",
   "execution_count": 6,
   "metadata": {},
   "outputs": [
    {
     "name": "stdout",
     "output_type": "stream",
     "text": [
      "Hello-World-From-APSSDC-"
     ]
    }
   ],
   "source": [
    "print(\"Hello\", end = '-')\n",
    "print(\"World\",  end = '-')\n",
    "print(\"From\",  end = '-')\n",
    "print(\"APSSDC\",  end = '-')"
   ]
  },
  {
   "cell_type": "code",
   "execution_count": 7,
   "metadata": {},
   "outputs": [
    {
     "name": "stdout",
     "output_type": "stream",
     "text": [
      "Enter something10\n"
     ]
    }
   ],
   "source": [
    "something = input(\"Enter something\")"
   ]
  },
  {
   "cell_type": "code",
   "execution_count": 9,
   "metadata": {},
   "outputs": [
    {
     "name": "stdout",
     "output_type": "stream",
     "text": [
      "10\n"
     ]
    }
   ],
   "source": [
    "print(something)"
   ]
  },
  {
   "cell_type": "code",
   "execution_count": 10,
   "metadata": {},
   "outputs": [
    {
     "name": "stdout",
     "output_type": "stream",
     "text": [
      "<class 'str'>\n"
     ]
    }
   ],
   "source": [
    "print(type(something))"
   ]
  },
  {
   "cell_type": "markdown",
   "metadata": {},
   "source": [
    "- Numbers - int, float, complex\n",
    "- char - Strings\n",
    "- Boolean - True, False\n",
    "- list\n",
    "- tuple\n",
    "- dictionary\n",
    "- sets"
   ]
  },
  {
   "cell_type": "markdown",
   "metadata": {},
   "source": [
    "### Type Casting/ Conversion"
   ]
  },
  {
   "cell_type": "code",
   "execution_count": 11,
   "metadata": {},
   "outputs": [
    {
     "name": "stdout",
     "output_type": "stream",
     "text": [
      "Enter a number: 100\n"
     ]
    }
   ],
   "source": [
    "a = int(input(\"Enter a number: \"))"
   ]
  },
  {
   "cell_type": "code",
   "execution_count": 12,
   "metadata": {},
   "outputs": [
    {
     "name": "stdout",
     "output_type": "stream",
     "text": [
      "100\n"
     ]
    }
   ],
   "source": [
    "print(a)"
   ]
  },
  {
   "cell_type": "code",
   "execution_count": 13,
   "metadata": {},
   "outputs": [
    {
     "data": {
      "text/plain": [
       "int"
      ]
     },
     "execution_count": 13,
     "metadata": {},
     "output_type": "execute_result"
    }
   ],
   "source": [
    "type(a)"
   ]
  },
  {
   "cell_type": "code",
   "execution_count": 14,
   "metadata": {},
   "outputs": [
    {
     "name": "stdout",
     "output_type": "stream",
     "text": [
      "Enter a number: 10o\n"
     ]
    },
    {
     "ename": "ValueError",
     "evalue": "invalid literal for int() with base 10: '10o'",
     "output_type": "error",
     "traceback": [
      "\u001b[1;31m---------------------------------------------------------------------------\u001b[0m",
      "\u001b[1;31mValueError\u001b[0m                                Traceback (most recent call last)",
      "\u001b[1;32m<ipython-input-14-6c927185374a>\u001b[0m in \u001b[0;36m<module>\u001b[1;34m\u001b[0m\n\u001b[1;32m----> 1\u001b[1;33m \u001b[0ma\u001b[0m \u001b[1;33m=\u001b[0m \u001b[0mint\u001b[0m\u001b[1;33m(\u001b[0m\u001b[0minput\u001b[0m\u001b[1;33m(\u001b[0m\u001b[1;34m\"Enter a number: \"\u001b[0m\u001b[1;33m)\u001b[0m\u001b[1;33m)\u001b[0m\u001b[1;33m\u001b[0m\u001b[1;33m\u001b[0m\u001b[0m\n\u001b[0m",
      "\u001b[1;31mValueError\u001b[0m: invalid literal for int() with base 10: '10o'"
     ]
    }
   ],
   "source": [
    "a = int(input(\"Enter a number: \"))"
   ]
  },
  {
   "cell_type": "markdown",
   "metadata": {},
   "source": [
    "#### Number Systems\n",
    "\n",
    "- Decimal - 10\n",
    "- Hexadecimal - 16\n",
    "- Octal - 8\n",
    "- Binary - 2"
   ]
  },
  {
   "cell_type": "code",
   "execution_count": 1,
   "metadata": {},
   "outputs": [
    {
     "name": "stdout",
     "output_type": "stream",
     "text": [
      "0b1010 <class 'str'>\n"
     ]
    }
   ],
   "source": [
    "binary = bin(10)\n",
    "\n",
    "print(binary, type(binary))"
   ]
  },
  {
   "cell_type": "code",
   "execution_count": 2,
   "metadata": {},
   "outputs": [
    {
     "name": "stdout",
     "output_type": "stream",
     "text": [
      "0xa <class 'str'>\n"
     ]
    }
   ],
   "source": [
    "hexa = hex(10)\n",
    "\n",
    "print(hexa, type(hexa))"
   ]
  },
  {
   "cell_type": "code",
   "execution_count": 3,
   "metadata": {},
   "outputs": [
    {
     "name": "stdout",
     "output_type": "stream",
     "text": [
      "0o12 <class 'str'>\n"
     ]
    }
   ],
   "source": [
    "octal = oct(10)\n",
    "\n",
    "print(octal, type(octal))"
   ]
  },
  {
   "cell_type": "code",
   "execution_count": 5,
   "metadata": {},
   "outputs": [
    {
     "name": "stdout",
     "output_type": "stream",
     "text": [
      "10 <class 'int'>\n",
      "520 <class 'int'>\n",
      "4112 <class 'int'>\n"
     ]
    }
   ],
   "source": [
    "bin2dec = int('1010', 2)\n",
    "print(bin2dec, type(bin2dec))\n",
    "\n",
    "oct2dec = int('1010', 8)\n",
    "print(oct2dec, type(oct2dec))\n",
    "\n",
    "hex2dec = int('1010', 16)\n",
    "print(hex2dec, type(hex2dec))"
   ]
  },
  {
   "cell_type": "code",
   "execution_count": 7,
   "metadata": {},
   "outputs": [
    {
     "data": {
      "text/plain": [
       "65"
      ]
     },
     "execution_count": 7,
     "metadata": {},
     "output_type": "execute_result"
    }
   ],
   "source": [
    "ord('A')"
   ]
  },
  {
   "cell_type": "code",
   "execution_count": 8,
   "metadata": {},
   "outputs": [
    {
     "data": {
      "text/plain": [
       "90"
      ]
     },
     "execution_count": 8,
     "metadata": {},
     "output_type": "execute_result"
    }
   ],
   "source": [
    "ord('Z')"
   ]
  },
  {
   "cell_type": "code",
   "execution_count": 9,
   "metadata": {},
   "outputs": [
    {
     "data": {
      "text/plain": [
       "'A'"
      ]
     },
     "execution_count": 9,
     "metadata": {},
     "output_type": "execute_result"
    }
   ],
   "source": [
    "chr(65)"
   ]
  },
  {
   "cell_type": "code",
   "execution_count": 10,
   "metadata": {},
   "outputs": [
    {
     "data": {
      "text/plain": [
       "(1.0, 10.0)"
      ]
     },
     "execution_count": 10,
     "metadata": {},
     "output_type": "execute_result"
    }
   ],
   "source": [
    "float(1), float('10')"
   ]
  },
  {
   "cell_type": "code",
   "execution_count": 11,
   "metadata": {},
   "outputs": [
    {
     "data": {
      "text/plain": [
       "('10', '10.55', '(10+8j)')"
      ]
     },
     "execution_count": 11,
     "metadata": {},
     "output_type": "execute_result"
    }
   ],
   "source": [
    "str(10), str(10.55), str(10+8j)"
   ]
  },
  {
   "cell_type": "markdown",
   "metadata": {},
   "source": [
    "### Identifiers\n",
    "\n",
    "- It is a valid name in python which is given to Variables, Functions, Classes, Methods, Modules, Packages\n",
    "\n",
    "### Properties of Identifiers in Python\n",
    "\n",
    "- identifiers cannot start with digit\n",
    "- Identifiers can be Alphanumeric [A-Z, a-z, 0-9]\n",
    "- It cannot contain any Special characters expect `_`\n",
    "- it can start with `_`"
   ]
  },
  {
   "cell_type": "code",
   "execution_count": 13,
   "metadata": {},
   "outputs": [
    {
     "name": "stdout",
     "output_type": "stream",
     "text": [
      "50 <class 'int'>\n"
     ]
    }
   ],
   "source": [
    "_ = 50\n",
    "\n",
    "print(_, type(_))"
   ]
  },
  {
   "cell_type": "code",
   "execution_count": 14,
   "metadata": {},
   "outputs": [
    {
     "ename": "SyntaxError",
     "evalue": "invalid syntax (<ipython-input-14-6d62420d0576>, line 1)",
     "output_type": "error",
     "traceback": [
      "\u001b[1;36m  File \u001b[1;32m\"<ipython-input-14-6d62420d0576>\"\u001b[1;36m, line \u001b[1;32m1\u001b[0m\n\u001b[1;33m    5a_ = 10\u001b[0m\n\u001b[1;37m     ^\u001b[0m\n\u001b[1;31mSyntaxError\u001b[0m\u001b[1;31m:\u001b[0m invalid syntax\n"
     ]
    }
   ],
   "source": [
    "5a_ = 10"
   ]
  },
  {
   "cell_type": "code",
   "execution_count": 15,
   "metadata": {},
   "outputs": [
    {
     "name": "stdout",
     "output_type": "stream",
     "text": [
      "50\n"
     ]
    }
   ],
   "source": [
    "a5_ = 50\n",
    "\n",
    "print(a5_)"
   ]
  },
  {
   "cell_type": "code",
   "execution_count": 16,
   "metadata": {},
   "outputs": [
    {
     "ename": "SyntaxError",
     "evalue": "cannot assign to operator (<ipython-input-16-469b4270f74b>, line 1)",
     "output_type": "error",
     "traceback": [
      "\u001b[1;36m  File \u001b[1;32m\"<ipython-input-16-469b4270f74b>\"\u001b[1;36m, line \u001b[1;32m1\u001b[0m\n\u001b[1;33m    a-v = 50\u001b[0m\n\u001b[1;37m    ^\u001b[0m\n\u001b[1;31mSyntaxError\u001b[0m\u001b[1;31m:\u001b[0m cannot assign to operator\n"
     ]
    }
   ],
   "source": [
    "a-v = 50\n",
    "\n",
    "print(a-v)"
   ]
  },
  {
   "cell_type": "markdown",
   "metadata": {},
   "source": [
    "### [PEP8 Guidelines](https://realpython.com/python-pep8/#:~:text=The%20primary%20focus%20of%20PEP,and%20style%2C%20for%20the%20community.)\n",
    "\n",
    "\n",
    "| Type     | Naming Convention                                            | Examples                                      |\n",
    "| -------- | ------------------------------------------------------------ | --------------------------------------------- |\n",
    "| Function | Use a lowercase word or words. Separate words by underscores to improve readability. | `function`, `my_function`                     |\n",
    "| Variable | Use a lowercase single letter, word, or words. Separate words with underscores to improve readability. | `x`, `var`, `my_variable`                     |\n",
    "| Class    | Start each word with a capital letter. Do not separate words with underscores. This style is called camel case. | `Model`, `MyClass`                            |\n",
    "| Method   | Use a lowercase word or words. Separate words with underscores to improve readability. | `class_method`, `method`                      |\n",
    "| Constant | Use an uppercase single letter, word, or words. Separate words with underscores to improve readability. | `CONSTANT`, `MY_CONSTANT`, `MY_LONG_CONSTANT` |\n",
    "| Module   | Use a short, lowercase word or words. Separate words with underscores to improve readability. | `module.py`, `my_module.py`                   |\n",
    "| Package  | Use a short, lowercase word or words. Do not separate words with underscores. | `package`, `mypackage`                        |\n",
    "\n"
   ]
  },
  {
   "cell_type": "markdown",
   "metadata": {},
   "source": [
    "### Keywords in Python\n",
    "\n",
    "\n",
    "They are reserve words in python which we can't use them as the identifiers"
   ]
  },
  {
   "cell_type": "code",
   "execution_count": 19,
   "metadata": {},
   "outputs": [
    {
     "data": {
      "text/plain": [
       "(['False',\n",
       "  'None',\n",
       "  'True',\n",
       "  'and',\n",
       "  'as',\n",
       "  'assert',\n",
       "  'async',\n",
       "  'await',\n",
       "  'break',\n",
       "  'class',\n",
       "  'continue',\n",
       "  'def',\n",
       "  'del',\n",
       "  'elif',\n",
       "  'else',\n",
       "  'except',\n",
       "  'finally',\n",
       "  'for',\n",
       "  'from',\n",
       "  'global',\n",
       "  'if',\n",
       "  'import',\n",
       "  'in',\n",
       "  'is',\n",
       "  'lambda',\n",
       "  'nonlocal',\n",
       "  'not',\n",
       "  'or',\n",
       "  'pass',\n",
       "  'raise',\n",
       "  'return',\n",
       "  'try',\n",
       "  'while',\n",
       "  'with',\n",
       "  'yield'],\n",
       " 35)"
      ]
     },
     "execution_count": 19,
     "metadata": {},
     "output_type": "execute_result"
    }
   ],
   "source": [
    "import keyword\n",
    "\n",
    "key = keyword.kwlist\n",
    "\n",
    "key, len(key)"
   ]
  },
  {
   "cell_type": "markdown",
   "metadata": {},
   "source": [
    "### Operators in Python\n",
    "\n",
    "#### 1. Arthematic Operators\n",
    "\n",
    "- Addition: `+` \n",
    "- Subtraction: `-`\n",
    "- Multiplication: `*`\n",
    "- Division: `/`\n",
    "- Mudulus division: `%`\n",
    "- Floor Division: `//`\n",
    "- Power: `**`"
   ]
  },
  {
   "cell_type": "code",
   "execution_count": 20,
   "metadata": {},
   "outputs": [
    {
     "name": "stdout",
     "output_type": "stream",
     "text": [
      "14\n",
      "-4\n",
      "45\n",
      "0.5555555555555556\n",
      "0\n",
      "5\n",
      "1953125\n"
     ]
    }
   ],
   "source": [
    "a = 5\n",
    "b = 9\n",
    "\n",
    "print(a + b)\n",
    "print(a - b)\n",
    "print(a * b)\n",
    "print(a / b)\n",
    "print(a // b)\n",
    "print(a % b)\n",
    "print(a ** b)"
   ]
  },
  {
   "cell_type": "markdown",
   "metadata": {},
   "source": [
    "### Logical Operators\n",
    "\n",
    "- and\n",
    "- or\n",
    "- not"
   ]
  },
  {
   "cell_type": "code",
   "execution_count": 21,
   "metadata": {},
   "outputs": [],
   "source": [
    "a = 5\n",
    "b = 10\n",
    "c = 0"
   ]
  },
  {
   "cell_type": "code",
   "execution_count": 22,
   "metadata": {},
   "outputs": [
    {
     "data": {
      "text/plain": [
       "50"
      ]
     },
     "execution_count": 22,
     "metadata": {},
     "output_type": "execute_result"
    }
   ],
   "source": [
    "_"
   ]
  },
  {
   "cell_type": "markdown",
   "metadata": {},
   "source": [
    "|inp1|inp2|inp1 and inp2|inp1 or inp2|\n",
    "|----|----|:----------:|:----------:|\n",
    "|0|0|0|0|\n",
    "|1|0|0|1|\n",
    "|0|1|0|1|\n",
    "|1|1|1|1|"
   ]
  },
  {
   "cell_type": "code",
   "execution_count": 24,
   "metadata": {},
   "outputs": [
    {
     "data": {
      "text/plain": [
       "10"
      ]
     },
     "execution_count": 24,
     "metadata": {},
     "output_type": "execute_result"
    }
   ],
   "source": [
    "a and b"
   ]
  },
  {
   "cell_type": "code",
   "execution_count": 25,
   "metadata": {},
   "outputs": [
    {
     "data": {
      "text/plain": [
       "0"
      ]
     },
     "execution_count": 25,
     "metadata": {},
     "output_type": "execute_result"
    }
   ],
   "source": [
    "a and c"
   ]
  },
  {
   "cell_type": "code",
   "execution_count": 26,
   "metadata": {},
   "outputs": [
    {
     "data": {
      "text/plain": [
       "0"
      ]
     },
     "execution_count": 26,
     "metadata": {},
     "output_type": "execute_result"
    }
   ],
   "source": [
    "c and b"
   ]
  },
  {
   "cell_type": "code",
   "execution_count": 27,
   "metadata": {},
   "outputs": [
    {
     "data": {
      "text/plain": [
       "5"
      ]
     },
     "execution_count": 27,
     "metadata": {},
     "output_type": "execute_result"
    }
   ],
   "source": [
    "a or b"
   ]
  },
  {
   "cell_type": "code",
   "execution_count": 28,
   "metadata": {},
   "outputs": [
    {
     "data": {
      "text/plain": [
       "5"
      ]
     },
     "execution_count": 28,
     "metadata": {},
     "output_type": "execute_result"
    }
   ],
   "source": [
    "c or a"
   ]
  },
  {
   "cell_type": "code",
   "execution_count": 29,
   "metadata": {},
   "outputs": [
    {
     "data": {
      "text/plain": [
       "0"
      ]
     },
     "execution_count": 29,
     "metadata": {},
     "output_type": "execute_result"
    }
   ],
   "source": [
    "c or c"
   ]
  },
  {
   "cell_type": "code",
   "execution_count": 32,
   "metadata": {},
   "outputs": [],
   "source": [
    "a = 'APSSDC'\n",
    "b = 50\n",
    "zero = 0\n",
    "zer = '0'"
   ]
  },
  {
   "cell_type": "code",
   "execution_count": 33,
   "metadata": {},
   "outputs": [
    {
     "name": "stdout",
     "output_type": "stream",
     "text": [
      "50 0 0 APSSDC\n"
     ]
    }
   ],
   "source": [
    "print(a and b, a and zero, zero and b, zer and a)"
   ]
  },
  {
   "cell_type": "code",
   "execution_count": 35,
   "metadata": {},
   "outputs": [
    {
     "name": "stdout",
     "output_type": "stream",
     "text": [
      "APSSDC 0 50 0\n"
     ]
    }
   ],
   "source": [
    "print(a or zer, zer or zero, zero or b, zer or a)"
   ]
  },
  {
   "cell_type": "code",
   "execution_count": 36,
   "metadata": {},
   "outputs": [
    {
     "data": {
      "text/plain": [
       "0"
      ]
     },
     "execution_count": 36,
     "metadata": {},
     "output_type": "execute_result"
    }
   ],
   "source": [
    "zero or zero"
   ]
  },
  {
   "cell_type": "code",
   "execution_count": 37,
   "metadata": {},
   "outputs": [
    {
     "data": {
      "text/plain": [
       "False"
      ]
     },
     "execution_count": 37,
     "metadata": {},
     "output_type": "execute_result"
    }
   ],
   "source": [
    "not a"
   ]
  },
  {
   "cell_type": "code",
   "execution_count": 38,
   "metadata": {},
   "outputs": [
    {
     "data": {
      "text/plain": [
       "True"
      ]
     },
     "execution_count": 38,
     "metadata": {},
     "output_type": "execute_result"
    }
   ],
   "source": [
    "not zero"
   ]
  },
  {
   "cell_type": "markdown",
   "metadata": {},
   "source": [
    "### Relational Operators\n",
    "\n",
    "\n",
    "- `>`\n",
    "- `<`\n",
    "- `<=`\n",
    "- `>=`\n",
    "- `==`\n",
    "- `!=`"
   ]
  },
  {
   "cell_type": "code",
   "execution_count": 39,
   "metadata": {},
   "outputs": [
    {
     "name": "stdout",
     "output_type": "stream",
     "text": [
      "False\n",
      "True\n",
      "True\n",
      "False\n",
      "False\n",
      "True\n"
     ]
    }
   ],
   "source": [
    "a = 5\n",
    "b = 10\n",
    "c = 5\n",
    "\n",
    "print(a > b) # False\n",
    "print(a == c) # True\n",
    "print(a < b) # True\n",
    "print(a >= b) # False\n",
    "print(a != c) # False\n",
    "print(a <= b) # True"
   ]
  },
  {
   "cell_type": "markdown",
   "metadata": {},
   "source": [
    "### Day03 Outcomes\n",
    "\n",
    "- Python Basics\n",
    "    - print()\n",
    "    - input()\n",
    "    - Data Types\n",
    "    - Type Conversion\n",
    "- Identifiers \n",
    "    - Properties of Identifiers\n",
    "    - Identifier Guidelines\n",
    "- Operators in Python\n",
    "    - Arthematic\n",
    "    - Logical\n",
    "    - Relational"
   ]
  }
 ],
 "metadata": {
  "kernelspec": {
   "display_name": "Python 3",
   "language": "python",
   "name": "python3"
  },
  "language_info": {
   "codemirror_mode": {
    "name": "ipython",
    "version": 3
   },
   "file_extension": ".py",
   "mimetype": "text/x-python",
   "name": "python",
   "nbconvert_exporter": "python",
   "pygments_lexer": "ipython3",
   "version": "3.8.3"
  }
 },
 "nbformat": 4,
 "nbformat_minor": 4
}
