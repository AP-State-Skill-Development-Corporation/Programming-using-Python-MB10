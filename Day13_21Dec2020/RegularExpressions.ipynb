{
 "cells": [
  {
   "cell_type": "markdown",
   "metadata": {},
   "source": [
    "<a href=\"https://apssdc.in\"><img src=\"https://camo.githubusercontent.com/e7501c5948d48f88dad8ab2ab6bd448e1cfd6c79/68747470733a2f2f64726976652e676f6f676c652e636f6d2f75633f6578706f72743d646f776e6c6f61642669643d3135414b51365f2d42697857344b366d4c36525070684635454b58715946327a6a\" width=\"900\" align=\"center\"></a>\n",
    "\n",
    "<h1><center>Regular Expressions & Functional Programming</center></h1>"
   ]
  },
  {
   "cell_type": "markdown",
   "metadata": {},
   "source": [
    "### Day13 Objectives\n",
    "\n",
    "- Regular Expessions Contd.\n",
    "- Functional Programming/ Comprehensions\n",
    "    - Lists\n",
    "    - Dictionary\n",
    "    - Set\n",
    "    - Tuple/ Generator\n",
    "- Special Functions\n",
    "    - lambda\n",
    "    - map()\n",
    "    - filter()"
   ]
  },
  {
   "cell_type": "markdown",
   "metadata": {},
   "source": [
    "### Patterns for RegEx:\n",
    "\n",
    "- `^` - StartsWith\n",
    "- `$` - EndsWith\n",
    "- `*` - 0 or more\n",
    "- `\\d` - digits\n",
    "- `\\D` - NotDigits\n",
    "- `\\w` - Alphabets\n",
    "- `\\W` - NotAlphabets\n",
    "- `\\s` - Space\n",
    "- `\\S` - NotSpace\n",
    "- `+` - \n",
    "- `?` - \n",
    "- `.` - anyCharacter\n",
    "- [] - GroupOfCharacters\n",
    "    - [A-Z] - UpperCase\n",
    "    - [a-z] - LowerCase\n",
    "    - [a-zA-z] - Lower& UpperCase\n",
    "    - [aeiou] - Vowels\n",
    "    - [^aeiou] - notVowels\n",
    "    - [asdf]\n",
    "    - [0-5] - 0-5 digts\n",
    "    \n",
    "- {min, max} - min-max times matches\n",
    "    - {min} - min times matches\n",
    "- `\\` Escape Sequence\n",
    "    - `\\.` - matching dot\n",
    "    - `\\*` - matching star"
   ]
  },
  {
   "cell_type": "code",
   "execution_count": 2,
   "metadata": {},
   "outputs": [
    {
     "data": {
      "text/plain": [
       "['5enwRaNY41XqvxN',\n",
       " 'djC43vaYLzjO3F7',\n",
       " 'CAMLyxgtJqvdEiW',\n",
       " 'wYlj4kZnLIzIQxG',\n",
       " '3vPQxwo0FIdiou7',\n",
       " 'jB7q0OhmSMXQLRe',\n",
       " 'QKmktCMos0cVOgG',\n",
       " 'z6i02Zt8HBiQCCD',\n",
       " 'uT4AUIkmYTrzGG0',\n",
       " 'xYghC09wT4y5Z9K']"
      ]
     },
     "execution_count": 2,
     "metadata": {},
     "output_type": "execute_result"
    }
   ],
   "source": [
    "data = \"\"\"5enwRaNY41XqvxN\n",
    "djC43vaYLzjO3F7\n",
    "CAMLyxgtJqvdEiW\n",
    "wYlj4kZnLIzIQxG\n",
    "3vPQxwo0FIdiou7\n",
    "jB7q0OhmSMXQLRe\n",
    "QKmktCMos0cVOgG\n",
    "z6i02Zt8HBiQCCD\n",
    "uT4AUIkmYTrzGG0\n",
    "xYghC09wT4y5Z9K\"\"\".split()\n",
    "\n",
    "data"
   ]
  },
  {
   "cell_type": "code",
   "execution_count": 4,
   "metadata": {},
   "outputs": [
    {
     "name": "stdout",
     "output_type": "stream",
     "text": [
      "['5']\n",
      "[]\n",
      "[]\n",
      "[]\n",
      "['3']\n",
      "[]\n",
      "[]\n",
      "[]\n",
      "[]\n",
      "[]\n"
     ]
    }
   ],
   "source": [
    "pattern = r'^\\d'\n",
    "\n",
    "import re\n",
    "for string in data:\n",
    "    print(re.findall(pattern, string))"
   ]
  },
  {
   "cell_type": "code",
   "execution_count": 5,
   "metadata": {},
   "outputs": [
    {
     "name": "stdout",
     "output_type": "stream",
     "text": [
      "[]\n",
      "[]\n",
      "[]\n",
      "[]\n",
      "[]\n",
      "[]\n",
      "[]\n",
      "['z6']\n",
      "[]\n",
      "[]\n"
     ]
    }
   ],
   "source": [
    "pattern = r'^.\\d'\n",
    "\n",
    "for string in data:\n",
    "    print(re.findall(pattern, string))"
   ]
  },
  {
   "cell_type": "code",
   "execution_count": 6,
   "metadata": {},
   "outputs": [
    {
     "name": "stdout",
     "output_type": "stream",
     "text": [
      "['Y4']\n",
      "['C4', 'O3', 'F7']\n",
      "[]\n",
      "['j4']\n",
      "['o0', 'u7']\n",
      "['B7', 'q0']\n",
      "['s0']\n",
      "['z6', 'i0', 't8']\n",
      "['T4', 'G0']\n",
      "['C0', 'T4', 'y5', 'Z9']\n"
     ]
    }
   ],
   "source": [
    "pattern = r'.\\d'\n",
    "\n",
    "for string in data:\n",
    "    print(re.findall(pattern, string))"
   ]
  },
  {
   "cell_type": "code",
   "execution_count": 7,
   "metadata": {},
   "outputs": [
    {
     "name": "stdout",
     "output_type": "stream",
     "text": [
      "['Y4']\n",
      "['C4', 'O3', 'F7']\n",
      "[]\n",
      "[]\n",
      "[]\n",
      "['B7']\n",
      "[]\n",
      "[]\n",
      "['T4', 'G0']\n",
      "['C0', 'T4', 'Z9']\n"
     ]
    }
   ],
   "source": [
    "pattern = r'[A-Z]\\d'\n",
    "\n",
    "for string in data:\n",
    "    print(re.findall(pattern, string))"
   ]
  },
  {
   "cell_type": "code",
   "execution_count": 9,
   "metadata": {},
   "outputs": [
    {
     "name": "stdout",
     "output_type": "stream",
     "text": [
      "['5enwRaNY4']\n",
      "['djC43vaYLzjO3F7']\n",
      "[]\n",
      "[]\n",
      "[]\n",
      "['jB7']\n",
      "[]\n",
      "[]\n",
      "['uT4AUIkmYTrzGG0']\n",
      "['xYghC09wT4y5Z9']\n"
     ]
    }
   ],
   "source": [
    "pattern = r'\\w*[A-Z]\\d'\n",
    "\n",
    "for string in data:\n",
    "    print(re.findall(pattern, string))"
   ]
  },
  {
   "cell_type": "code",
   "execution_count": 10,
   "metadata": {},
   "outputs": [
    {
     "name": "stdout",
     "output_type": "stream",
     "text": [
      "['Y4']\n",
      "['djC4', 'zjO3', 'F7']\n",
      "[]\n",
      "[]\n",
      "[]\n",
      "['jB7']\n",
      "[]\n",
      "[]\n",
      "['uT4', 'G0']\n",
      "['ghC0', 'wT4', 'Z9']\n"
     ]
    }
   ],
   "source": [
    "pattern = r'[a-z]*[A-Z]\\d'\n",
    "\n",
    "for string in data:\n",
    "    print(re.findall(pattern, string))"
   ]
  },
  {
   "cell_type": "code",
   "execution_count": 11,
   "metadata": {},
   "outputs": [
    {
     "name": "stdout",
     "output_type": "stream",
     "text": [
      "['aNY4']\n",
      "['djC4', 'zjO3']\n",
      "[]\n",
      "[]\n",
      "[]\n",
      "[]\n",
      "[]\n",
      "[]\n",
      "['zGG0']\n",
      "['ghC0', 'y5Z9']\n"
     ]
    }
   ],
   "source": [
    "pattern = r'[a-z].[A-Z]\\d'\n",
    "\n",
    "for string in data:\n",
    "    print(re.findall(pattern, string))"
   ]
  },
  {
   "cell_type": "code",
   "execution_count": 16,
   "metadata": {},
   "outputs": [
    {
     "name": "stdout",
     "output_type": "stream",
     "text": [
      "['RaNY4']\n",
      "['LzjO3']\n",
      "[]\n",
      "[]\n",
      "[]\n",
      "[]\n",
      "[]\n",
      "[]\n",
      "[]\n",
      "['YghC0']\n"
     ]
    }
   ],
   "source": [
    "pattern = r'[A-Z]..[A-Z]\\d'\n",
    "\n",
    "for string in data:\n",
    "    print(re.findall(pattern, string))"
   ]
  },
  {
   "cell_type": "code",
   "execution_count": 15,
   "metadata": {},
   "outputs": [
    {
     "name": "stdout",
     "output_type": "stream",
     "text": [
      "['RaNY4']\n",
      "['YLzjO3']\n",
      "[]\n",
      "[]\n",
      "[]\n",
      "[]\n",
      "[]\n",
      "[]\n",
      "[]\n",
      "['YghC0']\n"
     ]
    }
   ],
   "source": [
    "pattern = r'[A-Z]+..[A-Z]\\d'\n",
    "\n",
    "for string in data:\n",
    "    print(re.findall(pattern, string))"
   ]
  },
  {
   "cell_type": "code",
   "execution_count": 17,
   "metadata": {},
   "outputs": [
    {
     "name": "stdout",
     "output_type": "stream",
     "text": [
      "['RaNY4']\n",
      "['djC4', 'LzjO3']\n",
      "[]\n",
      "[]\n",
      "[]\n",
      "[]\n",
      "[]\n",
      "[]\n",
      "['zGG0']\n",
      "['YghC0', '9wT4', 'y5Z9']\n"
     ]
    }
   ],
   "source": [
    "pattern = r'[A-Z]?..[A-Z]\\d'\n",
    "\n",
    "for string in data:\n",
    "    print(re.findall(pattern, string))"
   ]
  },
  {
   "cell_type": "code",
   "execution_count": 18,
   "metadata": {},
   "outputs": [
    {
     "name": "stdout",
     "output_type": "stream",
     "text": [
      "['enwRaNY4']\n",
      "['vaYLzjO3']\n",
      "[]\n",
      "[]\n",
      "[]\n",
      "[]\n",
      "[]\n",
      "[]\n",
      "['mYTrzGG0']\n",
      "['xYghC0', 'wT4y5Z9']\n"
     ]
    }
   ],
   "source": [
    "pattern = r'[a-z]\\w{3,5}[A-Z]\\d'\n",
    "\n",
    "for string in data:\n",
    "    print(re.findall(pattern, string))"
   ]
  },
  {
   "cell_type": "markdown",
   "metadata": {},
   "source": [
    "### Given IPV4 address is valid or not"
   ]
  },
  {
   "cell_type": "code",
   "execution_count": 19,
   "metadata": {},
   "outputs": [
    {
     "data": {
      "text/plain": [
       "<re.Match object; span=(0, 15), match='172.168.255.237'>"
      ]
     },
     "execution_count": 19,
     "metadata": {},
     "output_type": "execute_result"
    }
   ],
   "source": [
    "ipv4 = \"172.168.255.237\" \n",
    "\n",
    "pattern = r'\\d\\d\\d\\.\\d\\d\\d\\.\\d\\d\\d\\.\\d\\d\\d'\n",
    "\n",
    "re.match(pattern, ipv4)"
   ]
  },
  {
   "cell_type": "code",
   "execution_count": 21,
   "metadata": {},
   "outputs": [
    {
     "name": "stdout",
     "output_type": "stream",
     "text": [
      "None\n"
     ]
    }
   ],
   "source": [
    "ipv4 = \"172.168.255.27\" \n",
    "\n",
    "pattern = r'\\d\\d\\d\\.\\d\\d\\d\\.\\d\\d\\d\\.\\d\\d\\d'\n",
    "\n",
    "print(re.match(pattern, ipv4))"
   ]
  },
  {
   "cell_type": "markdown",
   "metadata": {},
   "source": [
    "### Pattern for finding given Indian Mobile Number is valid or not\n",
    "\n",
    "### valid num1\n",
    "- 10 Digits\n",
    "- [6-9] - starting with\n",
    "\n",
    "### Valid num2\n",
    "\n",
    "- +91 started with\n",
    "- 10 Digits\n",
    "- [6-9] - starting with\n",
    "\n",
    "### Valid Num3\n",
    "\n",
    "- 0 startswith\n",
    "- [6-9] - starting with\n",
    "- 10 Digits\n"
   ]
  },
  {
   "cell_type": "code",
   "execution_count": 22,
   "metadata": {},
   "outputs": [],
   "source": [
    "pattern = '^[6-9]\\d{9}$'\n",
    "pattern2 = '^[6789][0-9]\\d\\d\\d[0-9][0-9]\\d\\d\\d$'"
   ]
  },
  {
   "cell_type": "code",
   "execution_count": 24,
   "metadata": {},
   "outputs": [
    {
     "name": "stdout",
     "output_type": "stream",
     "text": [
      "9876543210\n",
      "<re.Match object; span=(0, 10), match='9876543210'>\n",
      "987654321o\n",
      "None\n"
     ]
    }
   ],
   "source": [
    "print(re.match(pattern, input()))\n",
    "print(re.match(pattern2, input()))"
   ]
  },
  {
   "cell_type": "code",
   "execution_count": 37,
   "metadata": {},
   "outputs": [],
   "source": [
    "pattern='^[+91][6-9]\\d{10}$'\n",
    "# [+91] - first char of any +91\n",
    "# [6-9] - second char b/w 6-9\n",
    "# \\d{10} - 10 digits"
   ]
  },
  {
   "cell_type": "code",
   "execution_count": 28,
   "metadata": {},
   "outputs": [
    {
     "name": "stdout",
     "output_type": "stream",
     "text": [
      "+9876543210\n",
      "None\n"
     ]
    }
   ],
   "source": [
    "print(re.match(pattern, input()))"
   ]
  },
  {
   "cell_type": "code",
   "execution_count": 29,
   "metadata": {},
   "outputs": [
    {
     "name": "stdout",
     "output_type": "stream",
     "text": [
      "+919876543210\n",
      "None\n"
     ]
    }
   ],
   "source": [
    "print(re.match(pattern, input()))"
   ]
  },
  {
   "cell_type": "code",
   "execution_count": 30,
   "metadata": {},
   "outputs": [
    {
     "name": "stdout",
     "output_type": "stream",
     "text": [
      "+9198765432101\n",
      "None\n"
     ]
    }
   ],
   "source": [
    "print(re.match(pattern, input()))"
   ]
  },
  {
   "cell_type": "code",
   "execution_count": 34,
   "metadata": {},
   "outputs": [
    {
     "name": "stdout",
     "output_type": "stream",
     "text": [
      "+69876543210\n",
      "None\n"
     ]
    }
   ],
   "source": [
    "print(re.match(pattern, input()))"
   ]
  },
  {
   "cell_type": "code",
   "execution_count": 38,
   "metadata": {},
   "outputs": [
    {
     "name": "stdout",
     "output_type": "stream",
     "text": [
      "+99876543210\n",
      "<re.Match object; span=(0, 12), match='+99876543210'>\n"
     ]
    }
   ],
   "source": [
    "print(re.match(pattern, input()))"
   ]
  },
  {
   "cell_type": "markdown",
   "metadata": {},
   "source": [
    "### M2"
   ]
  },
  {
   "cell_type": "code",
   "execution_count": 39,
   "metadata": {},
   "outputs": [
    {
     "name": "stdout",
     "output_type": "stream",
     "text": [
      "+919876543210\n",
      "<re.Match object; span=(0, 13), match='+919876543210'>\n"
     ]
    }
   ],
   "source": [
    "pattern = '\\+91[6-9]\\d{9}'\n",
    "\n",
    "print(re.match(pattern, input()))"
   ]
  },
  {
   "cell_type": "code",
   "execution_count": 41,
   "metadata": {},
   "outputs": [
    {
     "name": "stdout",
     "output_type": "stream",
     "text": [
      "+9198765432101\n",
      "None\n"
     ]
    }
   ],
   "source": [
    "pattern = '^\\+91[6-9]\\d{9}$'\n",
    "\n",
    "print(re.match(pattern, input()))"
   ]
  },
  {
   "cell_type": "code",
   "execution_count": 42,
   "metadata": {},
   "outputs": [
    {
     "name": "stdout",
     "output_type": "stream",
     "text": [
      "+91987654321s\n",
      "None\n"
     ]
    }
   ],
   "source": [
    "pattern = '^\\+91[6-9]\\d{9}$'\n",
    "\n",
    "print(re.match(pattern, input()))"
   ]
  },
  {
   "cell_type": "code",
   "execution_count": 44,
   "metadata": {},
   "outputs": [
    {
     "name": "stdout",
     "output_type": "stream",
     "text": [
      "09876543210\n",
      "<re.Match object; span=(0, 11), match='09876543210'>\n"
     ]
    }
   ],
   "source": [
    "p = '^(0)[6-9]\\d{9}$'\n",
    "print(re.match(p, input()))"
   ]
  },
  {
   "cell_type": "code",
   "execution_count": 47,
   "metadata": {},
   "outputs": [
    {
     "name": "stdout",
     "output_type": "stream",
     "text": [
      "09876543210\n",
      "None\n"
     ]
    }
   ],
   "source": [
    "p1 = '^0[6-9]\\d{10}$'\n",
    "print(re.match(p1, input()))"
   ]
  },
  {
   "cell_type": "code",
   "execution_count": 48,
   "metadata": {},
   "outputs": [
    {
     "name": "stdout",
     "output_type": "stream",
     "text": [
      "09876543210\n",
      "<re.Match object; span=(0, 11), match='09876543210'>\n"
     ]
    }
   ],
   "source": [
    "p1 = '^0[6-9]\\d{9}$'\n",
    "print(re.match(p1, input()))"
   ]
  },
  {
   "cell_type": "code",
   "execution_count": 49,
   "metadata": {},
   "outputs": [
    {
     "name": "stdout",
     "output_type": "stream",
     "text": [
      "(09876543210\n"
     ]
    },
    {
     "ename": "error",
     "evalue": "unbalanced parenthesis at position 4",
     "output_type": "error",
     "traceback": [
      "\u001b[1;31m---------------------------------------------------------------------------\u001b[0m",
      "\u001b[1;31merror\u001b[0m                                     Traceback (most recent call last)",
      "\u001b[1;32m<ipython-input-49-45bfaf105f81>\u001b[0m in \u001b[0;36m<module>\u001b[1;34m\u001b[0m\n\u001b[0;32m      1\u001b[0m \u001b[0mpattern1\u001b[0m\u001b[1;33m=\u001b[0m\u001b[1;34m'^\\(0)[6-9]\\d{9}$'\u001b[0m\u001b[1;33m\u001b[0m\u001b[1;33m\u001b[0m\u001b[0m\n\u001b[0;32m      2\u001b[0m \u001b[1;33m\u001b[0m\u001b[0m\n\u001b[1;32m----> 3\u001b[1;33m \u001b[0mprint\u001b[0m\u001b[1;33m(\u001b[0m\u001b[0mre\u001b[0m\u001b[1;33m.\u001b[0m\u001b[0mmatch\u001b[0m\u001b[1;33m(\u001b[0m\u001b[0mpattern1\u001b[0m\u001b[1;33m,\u001b[0m \u001b[0minput\u001b[0m\u001b[1;33m(\u001b[0m\u001b[1;33m)\u001b[0m\u001b[1;33m)\u001b[0m\u001b[1;33m)\u001b[0m\u001b[1;33m\u001b[0m\u001b[1;33m\u001b[0m\u001b[0m\n\u001b[0m",
      "\u001b[1;32m~\\anaconda3\\lib\\re.py\u001b[0m in \u001b[0;36mmatch\u001b[1;34m(pattern, string, flags)\u001b[0m\n\u001b[0;32m    189\u001b[0m     \"\"\"Try to apply the pattern at the start of the string, returning\n\u001b[0;32m    190\u001b[0m     a Match object, or None if no match was found.\"\"\"\n\u001b[1;32m--> 191\u001b[1;33m     \u001b[1;32mreturn\u001b[0m \u001b[0m_compile\u001b[0m\u001b[1;33m(\u001b[0m\u001b[0mpattern\u001b[0m\u001b[1;33m,\u001b[0m \u001b[0mflags\u001b[0m\u001b[1;33m)\u001b[0m\u001b[1;33m.\u001b[0m\u001b[0mmatch\u001b[0m\u001b[1;33m(\u001b[0m\u001b[0mstring\u001b[0m\u001b[1;33m)\u001b[0m\u001b[1;33m\u001b[0m\u001b[1;33m\u001b[0m\u001b[0m\n\u001b[0m\u001b[0;32m    192\u001b[0m \u001b[1;33m\u001b[0m\u001b[0m\n\u001b[0;32m    193\u001b[0m \u001b[1;32mdef\u001b[0m \u001b[0mfullmatch\u001b[0m\u001b[1;33m(\u001b[0m\u001b[0mpattern\u001b[0m\u001b[1;33m,\u001b[0m \u001b[0mstring\u001b[0m\u001b[1;33m,\u001b[0m \u001b[0mflags\u001b[0m\u001b[1;33m=\u001b[0m\u001b[1;36m0\u001b[0m\u001b[1;33m)\u001b[0m\u001b[1;33m:\u001b[0m\u001b[1;33m\u001b[0m\u001b[1;33m\u001b[0m\u001b[0m\n",
      "\u001b[1;32m~\\anaconda3\\lib\\re.py\u001b[0m in \u001b[0;36m_compile\u001b[1;34m(pattern, flags)\u001b[0m\n\u001b[0;32m    302\u001b[0m     \u001b[1;32mif\u001b[0m \u001b[1;32mnot\u001b[0m \u001b[0msre_compile\u001b[0m\u001b[1;33m.\u001b[0m\u001b[0misstring\u001b[0m\u001b[1;33m(\u001b[0m\u001b[0mpattern\u001b[0m\u001b[1;33m)\u001b[0m\u001b[1;33m:\u001b[0m\u001b[1;33m\u001b[0m\u001b[1;33m\u001b[0m\u001b[0m\n\u001b[0;32m    303\u001b[0m         \u001b[1;32mraise\u001b[0m \u001b[0mTypeError\u001b[0m\u001b[1;33m(\u001b[0m\u001b[1;34m\"first argument must be string or compiled pattern\"\u001b[0m\u001b[1;33m)\u001b[0m\u001b[1;33m\u001b[0m\u001b[1;33m\u001b[0m\u001b[0m\n\u001b[1;32m--> 304\u001b[1;33m     \u001b[0mp\u001b[0m \u001b[1;33m=\u001b[0m \u001b[0msre_compile\u001b[0m\u001b[1;33m.\u001b[0m\u001b[0mcompile\u001b[0m\u001b[1;33m(\u001b[0m\u001b[0mpattern\u001b[0m\u001b[1;33m,\u001b[0m \u001b[0mflags\u001b[0m\u001b[1;33m)\u001b[0m\u001b[1;33m\u001b[0m\u001b[1;33m\u001b[0m\u001b[0m\n\u001b[0m\u001b[0;32m    305\u001b[0m     \u001b[1;32mif\u001b[0m \u001b[1;32mnot\u001b[0m \u001b[1;33m(\u001b[0m\u001b[0mflags\u001b[0m \u001b[1;33m&\u001b[0m \u001b[0mDEBUG\u001b[0m\u001b[1;33m)\u001b[0m\u001b[1;33m:\u001b[0m\u001b[1;33m\u001b[0m\u001b[1;33m\u001b[0m\u001b[0m\n\u001b[0;32m    306\u001b[0m         \u001b[1;32mif\u001b[0m \u001b[0mlen\u001b[0m\u001b[1;33m(\u001b[0m\u001b[0m_cache\u001b[0m\u001b[1;33m)\u001b[0m \u001b[1;33m>=\u001b[0m \u001b[0m_MAXCACHE\u001b[0m\u001b[1;33m:\u001b[0m\u001b[1;33m\u001b[0m\u001b[1;33m\u001b[0m\u001b[0m\n",
      "\u001b[1;32m~\\anaconda3\\lib\\sre_compile.py\u001b[0m in \u001b[0;36mcompile\u001b[1;34m(p, flags)\u001b[0m\n\u001b[0;32m    762\u001b[0m     \u001b[1;32mif\u001b[0m \u001b[0misstring\u001b[0m\u001b[1;33m(\u001b[0m\u001b[0mp\u001b[0m\u001b[1;33m)\u001b[0m\u001b[1;33m:\u001b[0m\u001b[1;33m\u001b[0m\u001b[1;33m\u001b[0m\u001b[0m\n\u001b[0;32m    763\u001b[0m         \u001b[0mpattern\u001b[0m \u001b[1;33m=\u001b[0m \u001b[0mp\u001b[0m\u001b[1;33m\u001b[0m\u001b[1;33m\u001b[0m\u001b[0m\n\u001b[1;32m--> 764\u001b[1;33m         \u001b[0mp\u001b[0m \u001b[1;33m=\u001b[0m \u001b[0msre_parse\u001b[0m\u001b[1;33m.\u001b[0m\u001b[0mparse\u001b[0m\u001b[1;33m(\u001b[0m\u001b[0mp\u001b[0m\u001b[1;33m,\u001b[0m \u001b[0mflags\u001b[0m\u001b[1;33m)\u001b[0m\u001b[1;33m\u001b[0m\u001b[1;33m\u001b[0m\u001b[0m\n\u001b[0m\u001b[0;32m    765\u001b[0m     \u001b[1;32melse\u001b[0m\u001b[1;33m:\u001b[0m\u001b[1;33m\u001b[0m\u001b[1;33m\u001b[0m\u001b[0m\n\u001b[0;32m    766\u001b[0m         \u001b[0mpattern\u001b[0m \u001b[1;33m=\u001b[0m \u001b[1;32mNone\u001b[0m\u001b[1;33m\u001b[0m\u001b[1;33m\u001b[0m\u001b[0m\n",
      "\u001b[1;32m~\\anaconda3\\lib\\sre_parse.py\u001b[0m in \u001b[0;36mparse\u001b[1;34m(str, flags, state)\u001b[0m\n\u001b[0;32m    960\u001b[0m     \u001b[1;32mif\u001b[0m \u001b[0msource\u001b[0m\u001b[1;33m.\u001b[0m\u001b[0mnext\u001b[0m \u001b[1;32mis\u001b[0m \u001b[1;32mnot\u001b[0m \u001b[1;32mNone\u001b[0m\u001b[1;33m:\u001b[0m\u001b[1;33m\u001b[0m\u001b[1;33m\u001b[0m\u001b[0m\n\u001b[0;32m    961\u001b[0m         \u001b[1;32massert\u001b[0m \u001b[0msource\u001b[0m\u001b[1;33m.\u001b[0m\u001b[0mnext\u001b[0m \u001b[1;33m==\u001b[0m \u001b[1;34m\")\"\u001b[0m\u001b[1;33m\u001b[0m\u001b[1;33m\u001b[0m\u001b[0m\n\u001b[1;32m--> 962\u001b[1;33m         \u001b[1;32mraise\u001b[0m \u001b[0msource\u001b[0m\u001b[1;33m.\u001b[0m\u001b[0merror\u001b[0m\u001b[1;33m(\u001b[0m\u001b[1;34m\"unbalanced parenthesis\"\u001b[0m\u001b[1;33m)\u001b[0m\u001b[1;33m\u001b[0m\u001b[1;33m\u001b[0m\u001b[0m\n\u001b[0m\u001b[0;32m    963\u001b[0m \u001b[1;33m\u001b[0m\u001b[0m\n\u001b[0;32m    964\u001b[0m     \u001b[1;32mif\u001b[0m \u001b[0mflags\u001b[0m \u001b[1;33m&\u001b[0m \u001b[0mSRE_FLAG_DEBUG\u001b[0m\u001b[1;33m:\u001b[0m\u001b[1;33m\u001b[0m\u001b[1;33m\u001b[0m\u001b[0m\n",
      "\u001b[1;31merror\u001b[0m: unbalanced parenthesis at position 4"
     ]
    }
   ],
   "source": [
    "pattern1='^\\(0)[6-9]\\d{9}$'\n",
    "\n",
    "print(re.match(pattern1, input()))"
   ]
  },
  {
   "cell_type": "code",
   "execution_count": 50,
   "metadata": {},
   "outputs": [
    {
     "name": "stdout",
     "output_type": "stream",
     "text": [
      "(09876543210\n",
      "<re.Match object; span=(0, 12), match='(09876543210'>\n"
     ]
    }
   ],
   "source": [
    "pattern1='^\\(0[6-9]\\d{9}$'\n",
    "\n",
    "print(re.match(pattern1, input()))"
   ]
  },
  {
   "cell_type": "code",
   "execution_count": 51,
   "metadata": {},
   "outputs": [
    {
     "name": "stdout",
     "output_type": "stream",
     "text": [
      "09876543210\n",
      "<re.Match object; span=(0, 11), match='09876543210'>\n"
     ]
    }
   ],
   "source": [
    "pattern1='^[0][6-9]\\d{9}$'\n",
    "\n",
    "print(re.match(pattern1, input()))"
   ]
  },
  {
   "cell_type": "code",
   "execution_count": 52,
   "metadata": {},
   "outputs": [
    {
     "name": "stdout",
     "output_type": "stream",
     "text": [
      "+919876543210\n",
      "<re.Match object; span=(0, 13), match='+919876543210'>\n"
     ]
    }
   ],
   "source": [
    "pattern1='^[/+][9][1][6-9]\\d{9}$'\n",
    "\n",
    "print(re.match(pattern1, input()))"
   ]
  },
  {
   "cell_type": "code",
   "execution_count": 53,
   "metadata": {},
   "outputs": [
    {
     "name": "stdout",
     "output_type": "stream",
     "text": [
      "+919876543210\n"
     ]
    },
    {
     "data": {
      "text/plain": [
       "<re.Match object; span=(0, 13), match='+919876543210'>"
      ]
     },
     "execution_count": 53,
     "metadata": {},
     "output_type": "execute_result"
    }
   ],
   "source": [
    "mobilePattern = r'^[/+][9][1][6-9]\\d{9}$|^[0][6-9]\\d{9}$|^[6-9]\\d{9}$'\n",
    "\n",
    "re.match(mobilePattern, input())"
   ]
  },
  {
   "cell_type": "code",
   "execution_count": 54,
   "metadata": {},
   "outputs": [
    {
     "name": "stdout",
     "output_type": "stream",
     "text": [
      "9876543210\n"
     ]
    },
    {
     "data": {
      "text/plain": [
       "<re.Match object; span=(0, 10), match='9876543210'>"
      ]
     },
     "execution_count": 54,
     "metadata": {},
     "output_type": "execute_result"
    }
   ],
   "source": [
    "mobilePattern = r'^[/+][9][1][6-9]\\d{9}$|^[0][6-9]\\d{9}$|^[6-9]\\d{9}$'\n",
    "\n",
    "re.match(mobilePattern, input())"
   ]
  },
  {
   "cell_type": "code",
   "execution_count": 56,
   "metadata": {},
   "outputs": [
    {
     "name": "stdout",
     "output_type": "stream",
     "text": [
      "+91aps9876543210\n",
      "Invalid\n"
     ]
    }
   ],
   "source": [
    "mobilePattern = r'^[/+][9][1][6-9]\\d{9}$|^[0][6-9]\\d{9}$|^[6-9]\\d{9}$'\n",
    "mobile = input()\n",
    "if re.match(mobilePattern, mobile):\n",
    "    print(mobile)\n",
    "else:\n",
    "    print(\"Invalid\")"
   ]
  },
  {
   "cell_type": "markdown",
   "metadata": {},
   "source": [
    "### Task: Find the email is valid or not\n",
    "\n",
    "- Email Id contains: username@domain.extension\n",
    "    - UserName\n",
    "    - @\n",
    "    - Domain (gmail, hotmail, srkit, apssdc, w3schools)\n",
    "    - .\n",
    "    - Extension - (in, us, gov, com, org, ngo, ml, ai) \n",
    "- UserName:\n",
    "    - must starts and contain lowercase/uppercase lettter\n",
    "    - no special characters except `.`, `_` but should not ends\n",
    "    - digits \n",
    "    - {6 - 18} characters\n",
    "- @\n",
    "- Domain\n",
    "    - {3 - 18} characters\n",
    "    - it can contain Lower/upper/numbers\n",
    "- .\n",
    "- Extension\n",
    "    - 2 - 8\n",
    "    - it can contain Lower/upper"
   ]
  }
 ],
 "metadata": {
  "kernelspec": {
   "display_name": "Python 3",
   "language": "python",
   "name": "python3"
  },
  "language_info": {
   "codemirror_mode": {
    "name": "ipython",
    "version": 3
   },
   "file_extension": ".py",
   "mimetype": "text/x-python",
   "name": "python",
   "nbconvert_exporter": "python",
   "pygments_lexer": "ipython3",
   "version": "3.8.3"
  }
 },
 "nbformat": 4,
 "nbformat_minor": 4
}
