{
 "cells": [
  {
   "cell_type": "markdown",
   "metadata": {},
   "source": [
    "<a href=\"https://apssdc.in\"><img src=\"https://camo.githubusercontent.com/e7501c5948d48f88dad8ab2ab6bd448e1cfd6c79/68747470733a2f2f64726976652e676f6f676c652e636f6d2f75633f6578706f72743d646f776e6c6f61642669643d3135414b51365f2d42697857344b366d4c36525070684635454b58715946327a6a\" width=\"900\" align=\"center\"></a>\n",
    "\n",
    "<h1><center>Day12 Python Programming</center></h1>"
   ]
  },
  {
   "cell_type": "markdown",
   "metadata": {},
   "source": [
    "### Day Objectives\n",
    "\n",
    "- File Handling Contd..\n",
    "- Regular Expressions"
   ]
  },
  {
   "cell_type": "markdown",
   "metadata": {},
   "source": [
    "File Modes\n",
    "1. r\n",
    "- w\n",
    "- a\n",
    "- r+\n",
    "- w+\n",
    "- a+\n",
    "- wb\n",
    "- rb\n",
    "- ab\n",
    "- wb+\n",
    "- wa+\n",
    "- wr+"
   ]
  },
  {
   "cell_type": "code",
   "execution_count": 1,
   "metadata": {},
   "outputs": [
    {
     "name": "stdout",
     "output_type": "stream",
     "text": [
      "<_io.TextIOWrapper name='../regex.txt' mode='r' encoding='cp1252'>\n",
      "['Regular expression\\n', 'From Wikipedia, the free encyclopedia\\n', 'Jump to navigationJump to search\\n', '\"Regex\" redirects here. For the comic book, see Re:Gex.\\n', '\\n', 'The match results of the pattern\\n', '(?<=\\\\.) {2,}(?=[A-Z]).\\n', 'At least two spaces are matched, but only if they occur directly after a period (.) and before an uppercase letter.\\n', '\\n', 'Stephen Cole Kleene, who helped invent the concept\\n', '\\n', 'A blacklist on Wikipedia which uses regular expressions to identify bad titles\\n', 'A regular expression (shortened as regex or regexp;[1] also referred to as rational expression[2][3]) is a sequence of characters that define a search pattern. Usually such patterns are used by string-searching algorithms for \"find\" or \"find and replace\" operations on strings, or for input validation. It is a technique developed in theoretical computer science and formal language theory.\\n', '\\n', 'The concept arose in the 1950s when the American mathematician Stephen Cole Kleene formalized the description of a regular language. The concept came into common use with Unix text-processing utilities. Different syntaxes for writing regular expressions have existed since the 1980s, one being the POSIX standard and another, widely used, being the Perl syntax.\\n', '\\n', 'Regular expressions are used in search engines, search and replace dialogs of word processors and text editors, in text processing utilities such as sed and AWK and in lexical analysis. Many programming languages provide regex capabilities either built-in or via libraries.\\n', 'New data appended using r+ mode in the last line']\n"
     ]
    }
   ],
   "source": [
    "with open('regex.txt', 'r') as f:\n",
    "    print(f)\n",
    "    #data = f.read()\n",
    "    #print(data)\n",
    "\n",
    "    print(f.readlines())"
   ]
  },
  {
   "cell_type": "markdown",
   "metadata": {},
   "source": [
    "### a+, w+, r+"
   ]
  },
  {
   "cell_type": "code",
   "execution_count": 2,
   "metadata": {},
   "outputs": [
    {
     "name": "stdout",
     "output_type": "stream",
     "text": [
      "New data appended using r+ mode in the last line\n"
     ]
    }
   ],
   "source": [
    "with open('../regex.txt', 'r+') as f:\n",
    "    data = '\\nNew data appended using r+ mode in the last line'\n",
    "    f.write(data)\n",
    "    data = f.readlines()[-1]\n",
    "    print(data)"
   ]
  },
  {
   "cell_type": "markdown",
   "metadata": {},
   "source": [
    "### Copying data from one file to other files\n",
    "\n",
    "\n",
    "- Open the Original File in `r` mode\n",
    "- open create the req copy file in `w`\n",
    "- do some operation\n",
    "- Close the opened files"
   ]
  },
  {
   "cell_type": "code",
   "execution_count": 3,
   "metadata": {},
   "outputs": [],
   "source": [
    "with open('../regex.txt', 'r') as f:\n",
    "    with open('copy1.txt', 'w') as cf1:\n",
    "        with open('copy2.txt', 'w') as cf2:\n",
    "            read_data = f.read()\n",
    "            cf1.write(read_data)\n",
    "            cf2.write(read_data)"
   ]
  },
  {
   "cell_type": "markdown",
   "metadata": {},
   "source": [
    "### Copying data from one file to 10 different files"
   ]
  },
  {
   "cell_type": "code",
   "execution_count": 4,
   "metadata": {},
   "outputs": [],
   "source": [
    "with open('../regex.txt', 'r') as f:\n",
    "    read_data = f.read()\n",
    "    for num in range(1,11):\n",
    "        with open('fileCopy{}.txt'.format(num), 'w') as cf:\n",
    "            cf.write(read_data)"
   ]
  },
  {
   "cell_type": "code",
   "execution_count": 5,
   "metadata": {},
   "outputs": [],
   "source": [
    "with open('../regex.txt', 'r') as f:\n",
    "    read_data = f.read()\n",
    "    for num in range(1,11):\n",
    "        with open('fileCopy{}.doc'.format(num), 'wb') as cf:\n",
    "            cf.write(read_data.encode())"
   ]
  },
  {
   "cell_type": "markdown",
   "metadata": {},
   "source": [
    "### Creating a file with rollNumbers from 18X41A1201 to 18X41A1299"
   ]
  },
  {
   "cell_type": "code",
   "execution_count": 6,
   "metadata": {},
   "outputs": [],
   "source": [
    "# File Name RollNumber.txt\n",
    "\n",
    "with open('rollNumber.txt', 'w') as f:\n",
    "    s = '18X41A12'\n",
    "    s1 = s + '0'\n",
    "    for i in range(1, 100):\n",
    "        if i < 10:\n",
    "            rollNum = s1 + str(i)\n",
    "        else:\n",
    "            rollNum = s + str(i)\n",
    "        f.write(rollNum + '\\n')"
   ]
  },
  {
   "cell_type": "markdown",
   "metadata": {},
   "source": [
    "## Regular Expression\n",
    "\n",
    "It is a sequence of characters that define a search pattern.\n",
    "\n",
    "\n",
    "- `re` is the package avaliable in python for implementing the Regular EXpressions.\n",
    "- Our Data Should avaliable in String format\n",
    "\n",
    "\n",
    "#### Syntax \n",
    "\n",
    "method(pattern, string)"
   ]
  },
  {
   "cell_type": "code",
   "execution_count": 7,
   "metadata": {},
   "outputs": [],
   "source": [
    "import re"
   ]
  },
  {
   "cell_type": "markdown",
   "metadata": {},
   "source": [
    "### Search"
   ]
  },
  {
   "cell_type": "code",
   "execution_count": 8,
   "metadata": {},
   "outputs": [],
   "source": [
    "s = 'APSSDC Python Online Training for SRKIT Students'"
   ]
  },
  {
   "cell_type": "code",
   "execution_count": 9,
   "metadata": {},
   "outputs": [
    {
     "name": "stdout",
     "output_type": "stream",
     "text": [
      "<re.Match object; span=(0, 2), match='AP'>\n"
     ]
    }
   ],
   "source": [
    "print(re.search('AP', s))"
   ]
  },
  {
   "cell_type": "code",
   "execution_count": 10,
   "metadata": {},
   "outputs": [
    {
     "name": "stdout",
     "output_type": "stream",
     "text": [
      "<re.Match object; span=(17, 19), match='in'>\n"
     ]
    }
   ],
   "source": [
    "print(re.search('in', s))"
   ]
  },
  {
   "cell_type": "code",
   "execution_count": 11,
   "metadata": {},
   "outputs": [
    {
     "name": "stdout",
     "output_type": "stream",
     "text": [
      "None\n"
     ]
    }
   ],
   "source": [
    "print(re.search('apssdc', s))"
   ]
  },
  {
   "cell_type": "code",
   "execution_count": 12,
   "metadata": {},
   "outputs": [
    {
     "name": "stdout",
     "output_type": "stream",
     "text": [
      "None\n"
     ]
    }
   ],
   "source": [
    "print(re.search('AC', s))"
   ]
  },
  {
   "cell_type": "code",
   "execution_count": 13,
   "metadata": {},
   "outputs": [
    {
     "data": {
      "text/plain": [
       "<re.Match object; span=(0, 8), match='18X41A12'>"
      ]
     },
     "execution_count": 13,
     "metadata": {},
     "output_type": "execute_result"
    }
   ],
   "source": [
    "roll = '18X41A1299'\n",
    "\n",
    "re.search('18X41A12', roll)"
   ]
  },
  {
   "cell_type": "markdown",
   "metadata": {},
   "source": [
    "### Match()"
   ]
  },
  {
   "cell_type": "code",
   "execution_count": 14,
   "metadata": {},
   "outputs": [
    {
     "data": {
      "text/plain": [
       "<re.Match object; span=(0, 6), match='APSSDC'>"
      ]
     },
     "execution_count": 14,
     "metadata": {},
     "output_type": "execute_result"
    }
   ],
   "source": [
    "re.match('APSSDC', s)"
   ]
  },
  {
   "cell_type": "code",
   "execution_count": 15,
   "metadata": {},
   "outputs": [
    {
     "name": "stdout",
     "output_type": "stream",
     "text": [
      "None\n"
     ]
    }
   ],
   "source": [
    "print(re.match('18', s))"
   ]
  },
  {
   "cell_type": "code",
   "execution_count": 16,
   "metadata": {},
   "outputs": [
    {
     "name": "stdout",
     "output_type": "stream",
     "text": [
      "None\n"
     ]
    }
   ],
   "source": [
    "print(re.match('PSSDC', s))"
   ]
  },
  {
   "cell_type": "markdown",
   "metadata": {},
   "source": [
    "### findall()"
   ]
  },
  {
   "cell_type": "code",
   "execution_count": 17,
   "metadata": {},
   "outputs": [
    {
     "data": {
      "text/plain": [
       "['in', 'in', 'in']"
      ]
     },
     "execution_count": 17,
     "metadata": {},
     "output_type": "execute_result"
    }
   ],
   "source": [
    "re.findall('in', s)"
   ]
  },
  {
   "cell_type": "code",
   "execution_count": 18,
   "metadata": {},
   "outputs": [
    {
     "name": "stdout",
     "output_type": "stream",
     "text": [
      "[]\n"
     ]
    }
   ],
   "source": [
    "print(re.findall('ap', s))"
   ]
  },
  {
   "cell_type": "markdown",
   "metadata": {},
   "source": [
    "### sub() - Used to replace the data in the main String\n",
    "\n",
    "\n",
    "#### Syntax:\n",
    "\n",
    "re.sub(pattern, newString, OriginalString)"
   ]
  },
  {
   "cell_type": "code",
   "execution_count": 19,
   "metadata": {},
   "outputs": [
    {
     "data": {
      "text/plain": [
       "'APSSDC Python OnlINe TraININg for SRKIT Students'"
      ]
     },
     "execution_count": 19,
     "metadata": {},
     "output_type": "execute_result"
    }
   ],
   "source": [
    "re.sub('in', 'IN', s)"
   ]
  },
  {
   "cell_type": "code",
   "execution_count": 20,
   "metadata": {},
   "outputs": [
    {
     "data": {
      "text/plain": [
       "'APSSDC Python Online Training for SRKIT Students'"
      ]
     },
     "execution_count": 20,
     "metadata": {},
     "output_type": "execute_result"
    }
   ],
   "source": [
    "s"
   ]
  },
  {
   "cell_type": "code",
   "execution_count": 21,
   "metadata": {},
   "outputs": [
    {
     "data": {
      "text/plain": [
       "'APSSDC Python Online Training for SRKIT Students'"
      ]
     },
     "execution_count": 21,
     "metadata": {},
     "output_type": "execute_result"
    }
   ],
   "source": [
    "re.sub('SRKIt', 'IN', s)"
   ]
  },
  {
   "cell_type": "markdown",
   "metadata": {},
   "source": [
    "### Split"
   ]
  },
  {
   "cell_type": "code",
   "execution_count": 22,
   "metadata": {},
   "outputs": [],
   "source": [
    "s2 = \"\"\"A regular expression (shortened as regex or regexp;[1] also referred to as rational expression[2][3]) is a sequence of characters that define a search pattern. Usually such patterns are used by string-searching algorithms for \"find\" or \"find and replace55\" operations on strings, or for input validation. It is a techn7ique developed in theoretical computer s8cience and formal 5language theory.\"\"\""
   ]
  },
  {
   "cell_type": "code",
   "execution_count": 23,
   "metadata": {},
   "outputs": [
    {
     "data": {
      "text/plain": [
       "'A regular expression (shortened as regex or regexp;[1] also referred to as rational expression[2][3]) is a sequence of characters that define a search pattern. Usually such patterns are used by string-searching algorithms for \"find\" or \"find and replace55\" operations on strings, or for input validation. It is a techn7ique developed in theoretical computer s8cience and formal 5language theory.'"
      ]
     },
     "execution_count": 23,
     "metadata": {},
     "output_type": "execute_result"
    }
   ],
   "source": [
    "s2"
   ]
  },
  {
   "cell_type": "code",
   "execution_count": 24,
   "metadata": {},
   "outputs": [
    {
     "data": {
      "text/plain": [
       "['A regular expression (shortened as regex or regexp;[1] also referred to as rational expression[2][3]) is a sequence of characters that define a search pattern',\n",
       " 'Usually such patterns are used by string-searching algorithms for \"find\" or \"find and replace55\" operations on strings, or for input validation',\n",
       " 'It is a techn7ique developed in theoretical computer s8cience and formal 5language theory.']"
      ]
     },
     "execution_count": 24,
     "metadata": {},
     "output_type": "execute_result"
    }
   ],
   "source": [
    "re.split('\\. ', s2)"
   ]
  },
  {
   "cell_type": "markdown",
   "metadata": {},
   "source": [
    "### Special characters for creating `re` patterns \n",
    "\n",
    "1. `^` - Checking the string is started with that pattern\n",
    "2. `$` - Checking the string is ended with that pattern\n",
    "3. `*` - any characters\n",
    "4. `\\d` - for matching the digits\n",
    "5. `\\w` - for matching alphabets\n",
    "6. `\\s` - for matching space"
   ]
  },
  {
   "cell_type": "code",
   "execution_count": 25,
   "metadata": {},
   "outputs": [
    {
     "data": {
      "text/plain": [
       "['1', '2', '3', '5', '5', '7', '8', '5']"
      ]
     },
     "execution_count": 25,
     "metadata": {},
     "output_type": "execute_result"
    }
   ],
   "source": [
    "re.findall('\\d', s2)"
   ]
  },
  {
   "cell_type": "code",
   "execution_count": 26,
   "metadata": {},
   "outputs": [
    {
     "name": "stdout",
     "output_type": "stream",
     "text": [
      "['A', 'r', 'e', 'g', 'u', 'l', 'a', 'r', 'e', 'x', 'p', 'r', 'e', 's', 's', 'i', 'o', 'n', 's', 'h', 'o', 'r', 't', 'e', 'n', 'e', 'd', 'a', 's', 'r', 'e', 'g', 'e', 'x', 'o', 'r', 'r', 'e', 'g', 'e', 'x', 'p', '1', 'a', 'l', 's', 'o', 'r', 'e', 'f', 'e', 'r', 'r', 'e', 'd', 't', 'o', 'a', 's', 'r', 'a', 't', 'i', 'o', 'n', 'a', 'l', 'e', 'x', 'p', 'r', 'e', 's', 's', 'i', 'o', 'n', '2', '3', 'i', 's', 'a', 's', 'e', 'q', 'u', 'e', 'n', 'c', 'e', 'o', 'f', 'c', 'h', 'a', 'r', 'a', 'c', 't', 'e', 'r', 's', 't', 'h', 'a', 't', 'd', 'e', 'f', 'i', 'n', 'e', 'a', 's', 'e', 'a', 'r', 'c', 'h', 'p', 'a', 't', 't', 'e', 'r', 'n', 'U', 's', 'u', 'a', 'l', 'l', 'y', 's', 'u', 'c', 'h', 'p', 'a', 't', 't', 'e', 'r', 'n', 's', 'a', 'r', 'e', 'u', 's', 'e', 'd', 'b', 'y', 's', 't', 'r', 'i', 'n', 'g', 's', 'e', 'a', 'r', 'c', 'h', 'i', 'n', 'g', 'a', 'l', 'g', 'o', 'r', 'i', 't', 'h', 'm', 's', 'f', 'o', 'r', 'f', 'i', 'n', 'd', 'o', 'r', 'f', 'i', 'n', 'd', 'a', 'n', 'd', 'r', 'e', 'p', 'l', 'a', 'c', 'e', '5', '5', 'o', 'p', 'e', 'r', 'a', 't', 'i', 'o', 'n', 's', 'o', 'n', 's', 't', 'r', 'i', 'n', 'g', 's', 'o', 'r', 'f', 'o', 'r', 'i', 'n', 'p', 'u', 't', 'v', 'a', 'l', 'i', 'd', 'a', 't', 'i', 'o', 'n', 'I', 't', 'i', 's', 'a', 't', 'e', 'c', 'h', 'n', '7', 'i', 'q', 'u', 'e', 'd', 'e', 'v', 'e', 'l', 'o', 'p', 'e', 'd', 'i', 'n', 't', 'h', 'e', 'o', 'r', 'e', 't', 'i', 'c', 'a', 'l', 'c', 'o', 'm', 'p', 'u', 't', 'e', 'r', 's', '8', 'c', 'i', 'e', 'n', 'c', 'e', 'a', 'n', 'd', 'f', 'o', 'r', 'm', 'a', 'l', '5', 'l', 'a', 'n', 'g', 'u', 'a', 'g', 'e', 't', 'h', 'e', 'o', 'r', 'y']\n"
     ]
    }
   ],
   "source": [
    "print(re.findall('\\w', s2))"
   ]
  },
  {
   "cell_type": "code",
   "execution_count": 27,
   "metadata": {},
   "outputs": [
    {
     "name": "stdout",
     "output_type": "stream",
     "text": [
      "[' ', ' ', ' ', ' ', ' ', ' ', ' ', ' ', ' ', ' ', ' ', ' ', ' ', ' ', ' ', ' ', ' ', ' ', ' ', ' ', ' ', ' ', ' ', ' ', ' ', ' ', ' ', ' ', ' ', ' ', ' ', ' ', ' ', ' ', ' ', ' ', ' ', ' ', ' ', ' ', ' ', ' ', ' ', ' ', ' ', ' ', ' ', ' ', ' ', ' ', ' ', ' ', ' ', ' ', ' ', ' ', ' ']\n"
     ]
    }
   ],
   "source": [
    "print(re.findall('\\s', s2))"
   ]
  },
  {
   "cell_type": "code",
   "execution_count": 28,
   "metadata": {},
   "outputs": [
    {
     "name": "stdout",
     "output_type": "stream",
     "text": [
      "[]\n"
     ]
    }
   ],
   "source": [
    "print(re.findall('^r', s))"
   ]
  },
  {
   "cell_type": "code",
   "execution_count": 29,
   "metadata": {},
   "outputs": [
    {
     "name": "stdout",
     "output_type": "stream",
     "text": [
      "['A', ' ', 'r', 'e', 'g', 'u', 'l', 'a', 'r', ' ', 'e', 'x', 'p', 'r', 'e', 's', 's', 'i', 'o', 'n', ' ', '(', 's', 'h', 'o', 'r', 't', 'e', 'n', 'e', 'd', ' ', 'a', 's', ' ', 'r', 'e', 'g', 'e', 'x', ' ', 'o', 'r', ' ', 'r', 'e', 'g', 'e', 'x', 'p', ';', '[', ']', ' ', 'a', 'l', 's', 'o', ' ', 'r', 'e', 'f', 'e', 'r', 'r', 'e', 'd', ' ', 't', 'o', ' ', 'a', 's', ' ', 'r', 'a', 't', 'i', 'o', 'n', 'a', 'l', ' ', 'e', 'x', 'p', 'r', 'e', 's', 's', 'i', 'o', 'n', '[', ']', '[', ']', ')', ' ', 'i', 's', ' ', 'a', ' ', 's', 'e', 'q', 'u', 'e', 'n', 'c', 'e', ' ', 'o', 'f', ' ', 'c', 'h', 'a', 'r', 'a', 'c', 't', 'e', 'r', 's', ' ', 't', 'h', 'a', 't', ' ', 'd', 'e', 'f', 'i', 'n', 'e', ' ', 'a', ' ', 's', 'e', 'a', 'r', 'c', 'h', ' ', 'p', 'a', 't', 't', 'e', 'r', 'n', '.', ' ', 'U', 's', 'u', 'a', 'l', 'l', 'y', ' ', 's', 'u', 'c', 'h', ' ', 'p', 'a', 't', 't', 'e', 'r', 'n', 's', ' ', 'a', 'r', 'e', ' ', 'u', 's', 'e', 'd', ' ', 'b', 'y', ' ', 's', 't', 'r', 'i', 'n', 'g', '-', 's', 'e', 'a', 'r', 'c', 'h', 'i', 'n', 'g', ' ', 'a', 'l', 'g', 'o', 'r', 'i', 't', 'h', 'm', 's', ' ', 'f', 'o', 'r', ' ', '\"', 'f', 'i', 'n', 'd', '\"', ' ', 'o', 'r', ' ', '\"', 'f', 'i', 'n', 'd', ' ', 'a', 'n', 'd', ' ', 'r', 'e', 'p', 'l', 'a', 'c', 'e', '\"', ' ', 'o', 'p', 'e', 'r', 'a', 't', 'i', 'o', 'n', 's', ' ', 'o', 'n', ' ', 's', 't', 'r', 'i', 'n', 'g', 's', ',', ' ', 'o', 'r', ' ', 'f', 'o', 'r', ' ', 'i', 'n', 'p', 'u', 't', ' ', 'v', 'a', 'l', 'i', 'd', 'a', 't', 'i', 'o', 'n', '.', ' ', 'I', 't', ' ', 'i', 's', ' ', 'a', ' ', 't', 'e', 'c', 'h', 'n', 'i', 'q', 'u', 'e', ' ', 'd', 'e', 'v', 'e', 'l', 'o', 'p', 'e', 'd', ' ', 'i', 'n', ' ', 't', 'h', 'e', 'o', 'r', 'e', 't', 'i', 'c', 'a', 'l', ' ', 'c', 'o', 'm', 'p', 'u', 't', 'e', 'r', ' ', 's', 'c', 'i', 'e', 'n', 'c', 'e', ' ', 'a', 'n', 'd', ' ', 'f', 'o', 'r', 'm', 'a', 'l', ' ', 'l', 'a', 'n', 'g', 'u', 'a', 'g', 'e', ' ', 't', 'h', 'e', 'o', 'r', 'y', '.']\n"
     ]
    }
   ],
   "source": [
    "print(re.findall('\\D', s2))"
   ]
  },
  {
   "cell_type": "code",
   "execution_count": 30,
   "metadata": {
    "scrolled": false
   },
   "outputs": [
    {
     "name": "stdout",
     "output_type": "stream",
     "text": [
      "A-regular-expression-(shortened-as-regex-or-regexp;[1]-also-referred-to-as-rational-expression[2][3])-is-a-sequence-of-characters-that-define-a-search-pattern.-Usually-such-patterns-are-used-by-string-searching-algorithms-for-\"find\"-or-\"find-and-replace55\"-operations-on-strings,-or-for-input-validation.-It-is-a-techn7ique-developed-in-theoretical-computer-s8cience-and-formal-5language-theory.\n"
     ]
    }
   ],
   "source": [
    "print(re.sub('\\s', '-', s2))"
   ]
  }
 ],
 "metadata": {
  "kernelspec": {
   "display_name": "Python 3",
   "language": "python",
   "name": "python3"
  },
  "language_info": {
   "codemirror_mode": {
    "name": "ipython",
    "version": 3
   },
   "file_extension": ".py",
   "mimetype": "text/x-python",
   "name": "python",
   "nbconvert_exporter": "python",
   "pygments_lexer": "ipython3",
   "version": "3.8.3"
  }
 },
 "nbformat": 4,
 "nbformat_minor": 4
}
